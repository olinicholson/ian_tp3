{
 "cells": [
  {
   "cell_type": "markdown",
   "metadata": {},
   "source": [
    "### Cadenas de markov para predecir el lenguaje - Metegol"
   ]
  },
  {
   "cell_type": "code",
   "execution_count": 1,
   "metadata": {},
   "outputs": [],
   "source": [
    "import re\n",
    "import random\n",
    "from collections import defaultdict\n",
    "import networkx as nx\n",
    "import matplotlib.pyplot as plt\n",
    "\n",
    "class MarkovChainPredictor:\n",
    "    def __init__(self):\n",
    "        self.transition_matrix = defaultdict(lambda: defaultdict(int))\n",
    "        self.terminal_states = set([\".\", \"?\"])\n",
    "\n",
    "    def train(self, text):\n",
    "        \"\"\"\n",
    "        Entrena el modelo de cadenas de Markov usando un texto dado.\n",
    "        \n",
    "        :param text: Cadena con el texto de entrenamiento.\n",
    "        \"\"\"\n",
    "        words = re.findall(r'\\w+|[.!?]', text)\n",
    "        for i in range(len(words) - 1):\n",
    "            current_word = words[i]\n",
    "            next_word = words[i + 1]\n",
    "            self.transition_matrix[current_word][next_word] += 1\n",
    "\n",
    "    def print_transition_matrix_for_word(self, word):\n",
    "        \"\"\"\n",
    "        Imprime la matriz de transición para una palabra específica.\n",
    "        \n",
    "        :param word: La palabra para la que se quiere imprimir la matriz de transición.\n",
    "        \"\"\"\n",
    "        if word in self.transition_matrix:\n",
    "            print(f\"Transiciones para la palabra '{word}':\")\n",
    "            for next_word, count in self.transition_matrix[word].items():\n",
    "                print(f\"  {next_word}: {count}\")\n",
    "        else:\n",
    "            print(f\"La palabra '{word}' no tiene transiciones registradas.\")\n",
    "\n",
    "    def predict_next_word(self, current_word):\n",
    "        \"\"\"\n",
    "        Predice la siguiente palabra basada en el modelo de cadenas de Markov.\n",
    "        \n",
    "        :param current_word: La palabra actual.\n",
    "        :return: La siguiente palabra predicha o None si no hay una predicción.\n",
    "        \"\"\"\n",
    "        next_words = self.transition_matrix[current_word]\n",
    "        if not next_words:\n",
    "            return None\n",
    "\n",
    "        total_transitions = sum(next_words.values())\n",
    "        words, probabilities = zip(*[(word, count / total_transitions) for word, count in next_words.items()])\n",
    "\n",
    "        return random.choices(words, probabilities)[0]\n",
    "\n",
    "    def generate_sentence(self, start_word):\n",
    "        \"\"\"\n",
    "        Genera una oración a partir de una palabra inicial hasta llegar a un estado terminal.\n",
    "        \n",
    "        :param start_word: La palabra inicial de la oración.\n",
    "        :return: Una oración generada como cadena.\n",
    "        \"\"\"\n",
    "        current_word = start_word\n",
    "        sentence = [current_word]\n",
    "\n",
    "        while current_word not in self.terminal_states:\n",
    "            next_word = self.predict_next_word(current_word)\n",
    "            if not next_word:\n",
    "                break\n",
    "            sentence.append(next_word)\n",
    "            current_word = next_word\n",
    "\n",
    "        return \" \".join(sentence)\n",
    "    \n",
    "    def visualize_transitions(self, word):\n",
    "        \"\"\"\n",
    "        Crea una visualización de las transiciones de una palabra específica.\n",
    "        \n",
    "        :param word: La palabra para la que se quiere visualizar las transiciones.\n",
    "        \"\"\"\n",
    "        if word not in self.transition_matrix:\n",
    "            print(f\"La palabra '{word}' no tiene transiciones registradas.\")\n",
    "            return\n",
    "\n",
    "        G = nx.DiGraph()\n",
    "\n",
    "        for next_word, count in self.transition_matrix[word].items():\n",
    "            G.add_edge(word, next_word, weight=count)\n",
    "\n",
    "        pos = nx.spring_layout(G)  # Posición de los nodos\n",
    "        plt.figure(figsize=(10, 6))\n",
    "\n",
    "        nx.draw_networkx_nodes(G, pos, node_size=700, node_color='lightblue')\n",
    "\n",
    "        edges = G.edges(data=True)\n",
    "        nx.draw_networkx_edges(\n",
    "            G, pos, edgelist=edges,\n",
    "            width=[data['weight'] for _, _, data in edges]\n",
    "        )\n",
    "\n",
    "        nx.draw_networkx_labels(G, pos, font_size=10, font_family=\"sans-serif\")\n",
    "        edge_labels = {(u, v): d['weight'] for u, v, d in edges}\n",
    "        nx.draw_networkx_edge_labels(G, pos, edge_labels=edge_labels)\n",
    "\n",
    "        plt.title(f\"Transiciones para la palabra '{word}'\")\n",
    "        plt.axis(\"off\")\n",
    "        plt.show()"
   ]
  },
  {
   "cell_type": "code",
   "execution_count": 2,
   "metadata": {},
   "outputs": [],
   "source": [
    "with open(\"metegol_limpio.txt\", \"r\", encoding=\"utf-8\") as file:\n",
    "    texto_entrenamiento = file.read()\n"
   ]
  },
  {
   "cell_type": "code",
   "execution_count": 3,
   "metadata": {},
   "outputs": [],
   "source": [
    "markov_predictor = MarkovChainPredictor()\n",
    "markov_predictor.train(texto_entrenamiento)"
   ]
  },
  {
   "cell_type": "code",
   "execution_count": 4,
   "metadata": {},
   "outputs": [
    {
     "name": "stdout",
     "output_type": "stream",
     "text": [
      "Transiciones para la palabra 'gol':\n",
      "  .: 3\n",
      "  ni: 1\n",
      "  !: 5\n",
      "  de: 1\n"
     ]
    }
   ],
   "source": [
    "markov_predictor.print_transition_matrix_for_word(\"gol\")"
   ]
  },
  {
   "cell_type": "code",
   "execution_count": 6,
   "metadata": {},
   "outputs": [],
   "source": [
    "oracion_generada = markov_predictor.generate_sentence(\"gol\")"
   ]
  },
  {
   "cell_type": "code",
   "execution_count": 7,
   "metadata": {},
   "outputs": [
    {
     "data": {
      "text/plain": [
       "'gol ! Qué viaje loco .'"
      ]
     },
     "execution_count": 7,
     "metadata": {},
     "output_type": "execute_result"
    }
   ],
   "source": [
    "oracion_generada"
   ]
  },
  {
   "cell_type": "code",
   "execution_count": 16,
   "metadata": {},
   "outputs": [
    {
     "data": {
      "text/plain": [
       "'gol de qué pasó ?'"
      ]
     },
     "execution_count": 16,
     "metadata": {},
     "output_type": "execute_result"
    }
   ],
   "source": [
    "markov_predictor.generate_sentence(\"gol\")"
   ]
  },
  {
   "cell_type": "code",
   "execution_count": 17,
   "metadata": {},
   "outputs": [
    {
     "data": {
      "text/plain": [
       "'gol de verdad .'"
      ]
     },
     "execution_count": 17,
     "metadata": {},
     "output_type": "execute_result"
    }
   ],
   "source": [
    "markov_predictor.generate_sentence(\"gol\")"
   ]
  },
  {
   "cell_type": "code",
   "execution_count": 18,
   "metadata": {},
   "outputs": [
    {
     "data": {
      "text/plain": [
       "'Amadeo no me quedé sin ti por haberlo fundado .'"
      ]
     },
     "execution_count": 18,
     "metadata": {},
     "output_type": "execute_result"
    }
   ],
   "source": [
    "markov_predictor.generate_sentence(\"Amadeo\")"
   ]
  },
  {
   "cell_type": "code",
   "execution_count": 19,
   "metadata": {},
   "outputs": [
    {
     "data": {
      "text/plain": [
       "'Amadeo cóbrale .'"
      ]
     },
     "execution_count": 19,
     "metadata": {},
     "output_type": "execute_result"
    }
   ],
   "source": [
    "markov_predictor.generate_sentence(\"Amadeo\")"
   ]
  },
  {
   "cell_type": "code",
   "execution_count": 20,
   "metadata": {},
   "outputs": [
    {
     "name": "stdout",
     "output_type": "stream",
     "text": [
      "Che Donald ! Vuelve .\n",
      "Che Donald ! Cálmate Beto en serio te vas a la ventana ?\n",
      "Che Donald ! Olé Olé .\n",
      "Che Donald ! Rata ! ESSA Cheaty Bank Bank La pasa este equipo que usar tu lugar se le importa .\n",
      "Che Donald ! Maldito pueblo ! Aquí ! Loco por eso .\n",
      "Che Donald ! Acá ! Campeón ! No puedes hacernos esto ?\n",
      "Che Donald ! Muchachos esto se le decíamos a ti te lo aclara .\n",
      "Che Donald ! En serio te llamas .\n",
      "Che Donald ! Te acuerdas ?\n",
      "Che Donald ! Vamos muchachos con la sequía ?\n",
      "Che Donald ! Para qué no se dice cuando se puede detener el pueblo ! Enciéndela ! Encara el triunfo la lengua los tengo la amistad ! Vamos .\n",
      "Che Donald ! El silencio en el tema de mugrientos .\n",
      "Che Donald ! Eso Tulio lo vas a la estirada del Grosso la boca .\n",
      "Che Donald ! Por primera vez me hacen todos juntos .\n",
      "Che Donald ! Ni idea .\n",
      "Che Donald ! Lárgala ! Ya era imposible de demostrarme lo vamos .\n",
      "Che Donald ! Acabo de la pelota .\n",
      "Che Donald ! Bájense todos .\n",
      "Che Donald ! Amadeo no .\n",
      "Che Donald ! Qué hace poco tiempo en la pelota dominada .\n",
      "Che Donald ! Me tuvo miedo .\n",
      "Che Donald ! 1 pero además es hora de Ferrero .\n",
      "Che Donald ! No acá el 2 .\n",
      "Che Donald ! Te odio ! Mira lo que este equipo sin ti .\n",
      "Che Donald ! Por favor .\n",
      "Che Donald ! Vamos .\n",
      "Che Donald ! Qué viaje loco .\n",
      "Che Donald ! Ve a poder crecer .\n",
      "Che Donald ! Amadeo .\n",
      "Che Donald ! Amadeo ! Páralos por esta situación .\n",
      "Che Donald ! Pero un toro imposible de los días .\n",
      "Che Donald ! Vamos inútiles ! Golazo ! Se los tengo ! Gané ! Nos estaba tan bueno .\n",
      "Che Donald ! Gol ! Me acuerdo ! Encuéntralos .\n",
      "Che Donald ! Yo te llamas ?\n",
      "Che Donald ! Se la amasa la cara .\n",
      "Che Donald ! Por favor .\n",
      "Che Donald ! Olé olé ! Aquí ! Tira el pueblo .\n",
      "Che Donald ! Golazo del Grosso intercepta ese .\n",
      "Che Donald ! Roba la envidia .\n",
      "Che Donald ! La otra cosa .\n",
      "Che Donald ! Vuelve al deporte y dinero a contar una cosa .\n",
      "Che Donald ! Bájense todos valemos nada .\n",
      "Che Donald ! Gané gané .\n",
      "Che Donald ! Gol del Emo .\n",
      "Che Donald ! Te voy a los partidos .\n",
      "Che Donald ! Que nos ibas a mis hombros que tú Laura .\n",
      "Che Donald ! Beto .\n",
      "Che Donald ! Tíralo ! No me importa .\n",
      "Che Donald ! Que se llenó de la apertura del que se volvió loco .\n",
      "Che Donald ! Carmiño ! No te olvides del gol ! Gol ! Sí .\n",
      "Che Donald ! Pobrecita mi amigo que quieres que haberlo desafiado así .\n",
      "Che Donald ! Pase sorpresivo para la cara .\n",
      "Che Donald ! Pone en el Beto no se va a llegar al metegol .\n",
      "Che Donald ! Beto ?\n",
      "Che Donald ! Ya estoy haciendo .\n",
      "Che Donald ! Gol .\n",
      "Che Donald ! 1 0 antes .\n",
      "Che Donald ! Amadeo por dentro gana Amadeo .\n",
      "Che Donald ! Detente detente .\n",
      "Che Donald ! Laura se reía .\n",
      "Che Donald ! Beto todos valemos nada ?\n",
      "Che Donald ! Gol ! Uno más pelotas .\n",
      "Che Donald ! Pobrecita mi vida jugando al cruce .\n",
      "Che Donald ! Que me voy a nadie con pelota y pusieron un final ! Gol ! Uno más .\n",
      "Che Donald ! La defensa .\n",
      "Che Donald ! Gol ! Estamos grandes para Hormona Domínguez que me queda .\n",
      "Che Donald ! Laura se vayan .\n",
      "Che Donald ! Ahora ! No nada .\n",
      "Che Donald ! La hora .\n",
      "Che Donald ! Vamos a la pelota ! Travesaño ! Quién es la pisa la amistad el Laucha Navarro amaga .\n",
      "Che Donald ! Gané ! Felices los días .\n",
      "Che Donald ! No no estar bajo mi pequeño pueblo .\n",
      "Che Donald ! Vamos ! Qué haces ?\n",
      "Che Donald ! Si ya los va a Dios ?\n",
      "Che Donald ! Bien .\n",
      "Che Donald ! Viste lo que tengo localizados .\n",
      "Che Donald ! Vamos .\n",
      "Che Donald ! Gol ! No ! Retirada ! Para qué ?\n",
      "Che Donald ! Gol ! Amadeo .\n",
      "Che Donald ! Bien .\n",
      "Che Donald ! Todo les explico ! Pone en offside .\n",
      "Che Donald ! Nos falta un homenaje al medio del pueblo .\n",
      "Che Donald ! Ya está todo el medio y además es mi custodia .\n",
      "Che Donald ! Nos vemos mañana .\n",
      "Che Donald ! Beto .\n",
      "Che Donald ! Retirada ! No el pueblo en este equipo Absoluto está ?\n",
      "Che Donald ! Roba la guerra .\n",
      "Che Donald ! Quieres .\n",
      "Che Donald ! Miren ! Retirada ! Amadeo .\n",
      "Che Donald ! Patada criminal del yo .\n",
      "Che Donald ! Gol ! Beto .\n",
      "Che Donald ! Travesaño ! Campeón ! Mira ! Un tatuaje Amadeo .\n",
      "Che Donald ! La tengo la cabeza fanfarrón .\n",
      "Che Donald ! Miren a la pastorcita que lo que Deportivo Desamparados .\n",
      "Che Donald ! El error del círculo .\n",
      "Che Donald ! Viste lo tuyo esto no puede dar vuelta en la tengo todo pero podría no importan ?\n",
      "Che Donald ! Si el Roña .\n",
      "Che Donald ! Pareces una abrojo al Laucha que Bordó .\n",
      "Che Donald ! Cálmate Beto no lo bien que te gusta esto le demuestres miedo que él era nuestro goleador no afeitarse hasta que era el mejor .\n",
      "Che Donald ! SÍ ! El futuro Amadeo .\n"
     ]
    }
   ],
   "source": [
    "for i in range(100):\n",
    "    print(markov_predictor.generate_sentence(\"Che\"))"
   ]
  },
  {
   "cell_type": "code",
   "execution_count": 14,
   "metadata": {},
   "outputs": [],
   "source": [
    "with open(\"metegol_limpio.txt\", \"r\", encoding=\"utf-8\") as file:\n",
    "    texto_entrenamiento = file.read()"
   ]
  },
  {
   "cell_type": "code",
   "execution_count": 29,
   "metadata": {},
   "outputs": [
    {
     "data": {
      "image/png": "[encoded data removed]",
      "text/plain": [
       "<Figure size 1000x600 with 1 Axes>"
      ]
     },
     "metadata": {},
     "output_type": "display_data"
    }
   ],
   "source": [
    "markov_predictor.visualize_transitions(\"Gol\")"
   ]
  },
  {
   "cell_type": "markdown",
   "metadata": {},
   "source": [
    "## N-gramas"
   ]
  },
  {
   "cell_type": "code",
   "execution_count": 2,
   "metadata": {},
   "outputs": [],
   "source": [
    "with open(\"metegol_limpio.txt\", \"r\", encoding=\"utf-8\") as file:\n",
    "    texto_entrenamiento = file.read()"
   ]
  },
  {
   "cell_type": "markdown",
   "metadata": {},
   "source": [
    "### CODIGO DE N-GRAMAS "
   ]
  },
  {
   "cell_type": "code",
   "execution_count": 3,
   "metadata": {},
   "outputs": [
    {
     "name": "stdout",
     "output_type": "stream",
     "text": [
      "Frecuencias globales: {'papá': 4, '?': 251, '!': 268, 'qué': 105, 'pasa': 19, 'haces': 16, 'tú': 40, 'vamos': 53, ',': 446, 've': 8, 'a': 178, 'dormir': 2, '.': 1171, 'no': 275, 'hay': 16, 'nada': 28, 'que': 143, 'hacer': 8, 'cree': 1, 'por': 71, 'eso': 20, 'los': 55, 'me': 79, 'parece': 9, 'ya': 14, 'es': 66, 'hora': 6, 'de': 130, 'contarle': 1, 'entonces': 4, 'si': 31, 'está': 19, 'todo': 21, 'el': 227, 'día': 2, 'enchufado': 1, 'en': 58, 'ese': 9, 'aparato': 1, 'ni': 14, 'escucha': 2, 'soy': 20, 'un': 88, 'fracaso': 3, 'como': 20, 'padre': 5, 'amarguísimo': 1, 'hablar': 4, 'con': 47, 'él': 10, 'tranquilo': 5, 'eh': 2, 'mati': 1, 'puedo': 8, 'contigo': 2, 'estoy': 18, 'dormido': 1, 'mañana': 3, 'dejaste': 2, 'juego': 6, 'encendido': 1, 'mira': 17, 'jugada': 2, 'difícil': 2, 'cómo': 39, 'hiciste': 4, 'muéstrame': 1, 'dime': 1, 'estabas': 1, 'durmiendo': 1, 'tenemos': 8, 'ponte': 1, 'cómodo': 1, 'te': 86, 'voy': 19, 'contar': 1, 'una': 38, 'historia': 4, 'pero': 39, 'tienes': 12, 'usar': 1, 'tu': 8, 'imaginación': 1, 'esto': 27, 'ocurrió': 1, 'hace': 5, 'poco': 1, 'tiempo': 5, 'pueblo': 29, 'muy': 10, 'cercano': 1, 'donde': 2, 'había': 3, 'plaza': 1, 'la': 152, 'nuestra': 2, 'estatua': 2, 'fundador': 2, 'nuestros': 1, 'y': 110, 'también': 6, 'bar': 7, 'nuestro': 4, 'eusebio': 9, 'número': 3, 'trascendental': 1, 'expresa': 1, 'radio': 1, 'circunferencia': 1, 'al': 42, 'diámetro': 1, 'del': 44, 'círculo': 1, 'dos': 8, 'letras': 2, 'pi': 4, 'apellido': 1, 'famoso': 2, 'autor': 1, 'teatral': 1, 'william': 1, 'trabajaba': 1, 'chico': 2, 'niño': 8, 'igual': 4, 'yo': 54, 'amadeo': 64, 'apúrate': 2, 'tenía': 1, 'gran': 3, 'debilidad': 2, 'cada': 2, 'vez': 12, 'se': 83, 'menos': 3, 'mí': 20, 'hola': 5, 'encanta': 2, 'helado': 1, 'ti': 18, 'gusta': 3, 'va': 16, 'gustar': 1, 'laurita': 5, 'tiene': 13, 'novio': 2, 'doble': 6, 'eje': 6, 'lo': 83, 'hizo': 7, 'mostrar': 1, 'mi': 26, 'equipo': 17, 'encantaría': 1, 'ven': 13, 'vas': 14, 'ver': 13, 'quedó': 2, 'estaba': 7, 'cansado': 2, 'mismos': 1, 'jugadores': 6, 'ahora': 20, 'son': 16, 'distintos': 1, 'únicos': 1, 'hermoso': 3, 'domina': 2, 'lechuga': 2, 'cinco': 3, 'antes': 3, 'pase': 7, 'corto': 3, 'para': 53, 'milton': 1, 'ritmo': 1, 'trópico': 1, 'sangre': 1, 'abre': 2, 'balón': 4, 'igor': 1, 'frío': 3, 'cálculo': 1, 'bloque': 1, 'bielorruso': 1, 'pisa': 3, 'amasa': 2, 'mellizo': 1, 'malparitti': 4, 'muralla': 1, 'pared': 2, 'cabeza': 6, 'clara': 1, 'ánimo': 2, 'negro': 1, 'noche': 3, 'pide': 2, 'pulpo': 2, 'benítez': 1, 'elástico': 1, 'mimbre': 2, 'bajo': 3, 'tres': 4, 'palos': 1, 'banda': 1, 'coreano': 4, 'parlí': 1, 'silencio': 1, 'persona': 2, 'junto': 1, 'lateral': 1, 'sorpresivo': 1, 'cordobés': 3, 'melena': 1, 'mágicos': 1, 'adelante': 4, 'recibe': 5, 'loco': 12, 'poeta': 1, 'gol': 38, 'beto': 43, 'jugador': 2, 'más': 29, 'carismático': 1, 'continente': 1, 'levanta': 2, 'desmarcado': 1, 'capitán': 3, 'único': 3, 'inigualable': 1, 'distinto': 1, 'amigo': 2, 'capi': 12, 'clava': 1, 'abajo': 4, 'sí': 29, 'golazo': 3, 'lisos': 3, 'importa': 10, 'nuevo': 11, 'quiero': 13, 'jugar': 9, 'quiere': 6, 'conmigo': 4, 'tuya': 2, 'ey': 5, 'hablo': 1, 'quieres': 10, 'eres': 12, 'crack': 3, 'fútbol': 8, 'juguete': 2, 'mudito': 1, 'pobrecito': 3, 'le': 25, 'da': 4, 'vergüenza': 2, 'tan': 3, 'bueno': 11, 'juega': 3, 'uno': 6, 'miedo': 10, 'juégale': 1, 'favor': 23, 'cuesta': 1, 'hazlo': 1, 'ruego': 1, 'suplico': 1, 'pido': 3, 'rodillas': 1, 'tengo': 20, 'concentrando': 1, 'campeón': 5, 'entrenador': 1, 'acabo': 1, 'tirar': 1, 'esa': 1, 'pude': 3, 'dura': 1, 'estatuita': 1, 'ataca': 2, 'otra': 9, 'liso': 2, 'ser': 8, 'goleada': 1, 'segura': 1, 'ramiro': 2, 'izquierda': 4, 'sergio': 2, 'pobrecita': 1, 'pollito': 1, 'necesitas': 2, 'madre': 3, 'gallinita': 1, 'verlas': 1, 'madres': 1, 'gallinitas': 1, 'gonzalo': 2, 'jorge': 2, 'dame': 6, 'pelota': 11, 'empatamos': 1, 'metegol': 15, 'existe': 2, 'empate': 1, 'quieras': 3, 'bien': 20, 'partido': 13, 'terminó': 2, 'ganar': 9, 'monedas': 1, 'pelotas': 1, 'suéltame': 3, 'siempre': 15, 'gano': 1, 'maldito': 1, 'odio': 8, 'culpa': 1, 'haberlo': 2, 'fundado': 1, 'así': 12, 'perder': 3, 'esta': 11, 'sé': 10, 'río': 1, 'norte': 1, 'italia': 1, 'muchachos': 17, 'nos': 25, 'entendemos': 1, 'quién': 17, 'anima': 1, 'partidito': 4, 'doy': 1, 'revancha': 3, 'amadeus': 1, 'tal': 4, 'estamos': 5, 'grandes': 1, 'adónde': 5, 'ciudad': 1, 'estudiar': 1, 'estuve': 2, 'ahorrando': 1, 'durante': 1, 'años': 3, 'porque': 8, 'carísimo': 1, 'gastar': 1, 'tener': 3, 'futuro': 3, 'griegos': 1, 'romanos': 1, 'hasta': 5, 'suizo': 1, 'tienen': 4, 'parte': 3, 'dices': 5, 'orgulloso': 1, 'hago': 4, 'mil': 2, 'cosas': 7, 'tema': 3, 'están': 8, 'oxidando': 1, 'además': 4, 'medio': 7, 'campo': 4, 'problema': 1, 'ahí': 9, 'comunicación': 1, 'falta': 5, 'diálogo': 1, 'desarrollando': 1, 'técnica': 1, 'molinete': 2, 'triple': 1, 'muchas': 2, 'puedes': 4, 'pensar': 1, 'pasas': 2, 'jugando': 2, 'buenas': 1, 'tardes': 1, 'queridísimos': 1, 'habitantes': 2, 'este': 16, 'maravilloso': 3, 'poblado': 1, 'alegría': 1, 'todos': 12, 'basta': 4, 'tristeza': 1, 'venimos': 1, 'anunciar': 1, 'apertura': 1, 'universal': 3, 'astro': 3, 'aquí': 6, 'emprendimiento': 1, 'monodeportivo': 1, 'atraerá': 1, 'turistas': 1, 'estas': 3, 'tierras': 1, 'dinero': 2, 'vuestros': 1, 'bolsillos': 1, 'concebido': 1, 'planeado': 1, 'financiado': 1, 'ha': 1, 'sido': 2, 'verdadero': 1, 'hijo': 7, 'técnicos': 1, 'teman': 2, 'gente': 4, 'vinimos': 1, 'hacerles': 1, 'daño': 1, 'somos': 8, 'amigos': 1, 'era': 14, 'simple': 1, 'cuando': 7, 'llevamos': 1, 'megaestrella': 1, 'internacional': 1, 'ezequiel': 2, 'remacho': 2, 'grosso': 16, 'gracias': 8, 'pequeño': 4, 'maravillosa': 1, 'bienvenida': 3, 'han': 1, 'pasado': 1, 'muchos': 1, 'desde': 1, 'aquella': 1, 'nunca': 8, 'olvidarme': 1, 'nuestras': 1, 'vidas': 1, 'estarán': 1, 'ligadas': 1, 'sigues': 1, 'diciendo': 2, 'obvio': 2, 'mío': 1, 'tuyo': 6, 'intendente': 3, 'después': 4, 'les': 6, 'explico': 1, 'adiós': 1, 'necesitamos': 5, 'bienvenidos': 2, 'claro': 5, 'homenaje': 2, 'deporte': 2, 'noble': 1, 'estadio': 4, 'grande': 3, 'mundo': 4, 'paseos': 1, 'turísticos': 1, 'parque': 1, 'temático': 1, 'museo': 1, 'dedicado': 1, 'figura': 1, 'importante': 1, 'su': 4, 'acá': 21, 'queremos': 1, 'ningún': 3, 'olvidé': 1, 'tampoco': 2, 'las': 14, 'obras': 1, 'comenzarán': 1, 'hoy': 2, 'mismo': 4, 'empezaremos': 1, 'alto': 5, 'rápido': 2, 'salgan': 1, 'páralos': 1, 'imposible': 4, 'puede': 8, 'detener': 1, 'progreso': 1, 'sal': 2, 'espera': 12, 'hacernos': 1, 'tráeme': 1, 'o': 9, 'vuelvas': 1, 'vayas': 1, 'tolerar': 1, 'razón': 3, 'casi': 1, 'escúchame': 1, 'decir': 5, 'dejar': 2, 'paz': 3, 'escuches': 1, 'oídos': 1, 'serio': 5, 'aprietes': 1, 'botones': 2, 'laura': 13, 'cambia': 1, 'cara': 6, 'hermanos': 1, '3': 8, '724': 1, 'partidos': 2, 'invictos': 1, 'juntos': 4, 'pesadilla': 3, 'despertar': 1, 'estará': 1, 'desanimes': 2, 'todavía': 4, 'dar': 3, 'vuelta': 3, 'estás': 14, 'cargando': 1, 'darlo': 1, 'máximo': 1, 'hablas': 1, 'desperdicié': 1, 'vida': 8, 'mucho': 10, 'quédate': 1, 'quieto': 1, 'tronco': 1, 'sirvo': 1, 'ir': 3, 'retenerla': 1, 'encima': 3, 'hablando': 1, 'pedazo': 2, 'plomo': 2, 'normal': 1, 'terminaste': 1, 'wing': 1, 'izquierdo': 1, 'mejor': 10, 'invicto': 1, 'vista': 1, 'certera': 1, 'equilibrio': 1, 'perfecto': 2, 'muñeca': 1, 'suprema': 1, 'olvidaste': 1, 'desafío': 6, 'mecánico': 3, 'lado': 5, 'destruyendo': 1, 'reía': 7, 'acuerdas': 4, 'ardilla': 1, '0': 5, 'perdíamos': 1, 'dimos': 1, '4': 7, 'imbatibles': 1, 'nadie': 7, 'busquemos': 1, 'fierro': 1, 'mujeres': 2, 'van': 17, 'vienen': 2, 'crees': 1, 'alguna': 3, 'vayan': 2, 'quieren': 1, 'completo': 2, 'hacemos': 2, 'olvídate': 3, 'buscar': 3, 'adentro': 1, 'conozco': 2, 'centímetro': 1, 'afuera': 3, 'tiempito': 1, 'basura': 4, 'dónde': 6, 'queda': 4, 'basural': 2, 'verdad': 5, 'ganamos': 1, 'goles': 5, 'míos': 1, 'último': 1, 'fue': 10, 'offside': 1, 'línea': 1, 'especial': 1, 'casa': 2, 'fin': 2, 'semana': 2, 'agárrate': 5, 'fuerte': 5, 'estupendo': 1, 'días': 2, 'siguen': 1, 'volviendo': 1, 'encontrar': 1, 'paso': 5, 'calmémonos': 1, 'arremanguémonos': 1, 'empezamos': 2, 'guau': 1, 'viaje': 1, 'uh': 1, 'epa': 1, 'agrandó': 1, 'cancha': 3, 'socorro': 2, 'viste': 4, 'felices': 1, 'ojos': 2, 'sabes': 5, 'sufrimos': 1, 'separación': 1, 'miren': 6, 'estar': 3, 'suelto': 1, 'olé': 7, 'salchichas': 2, 'puré': 2, 'cuidado': 7, 'gira': 4, 'pelo': 3, 'libre': 7, 'sol': 1, 'goleador': 11, 'agárrense': 4, 'perdón': 2, 'confundió': 1, 'síguele': 1, 'corriente': 1, 'volvió': 1, 'escuchando': 1, 'repito': 1, 'rata': 3, 'comió': 1, 'cerebro': 1, 'sabemos': 1, 'inútil': 4, 'marcas': 1, 'golpeó': 1, 'golpear': 1, 'fanfarrón': 2, 'mano': 4, 'ato': 1, 'provoques': 2, 'digo': 4, 'hice': 3, 'solito': 1, 'mal': 2, 'unidos': 1, 'alineados': 1, 'universo': 5, 'arco': 2, 'iris': 1, 'ambulancia': 1, 'viene': 4, 'llevar': 2, 'pobre': 3, 'chiflado': 1, 'agarre': 1, 'ate': 1, 'acerques': 1, 'parto': 1, 'mato': 2, 'solos': 1, 'ustedes': 3, 'sabías': 1, 'llanto': 1, 'estela': 3, 'deja': 3, 'alma': 1, 'mar': 1, 'existencia': 1, 'dijo': 1, 'callas': 1, 'digan': 1, 'calle': 1, 'confundamos': 1, 'cosa': 8, 'sensibilidad': 1, 'estupidez': 2, 'cierra': 1, 'boca': 1, 'metiendo': 1, 'calentando': 1, 'patéticos': 1, 'lisandro': 1, 'bordó': 6, 'granate': 4, 'linda': 3, 'toca': 1, 'llenó': 1, 'pides': 2, '30': 2, 'arrugaron': 1, 'comieron': 1, 'lengua': 1, 'ratones': 1, 'nosotros': 6, 'comer': 2, 'demuestres': 1, 'allá': 5, 'entró': 1, 'llevaron': 3, 'defendimos': 1, 'valemos': 3, 'vale': 1, 'déjalo': 1, 'habla': 1, 'irnos': 1, 'podemos': 2, 'quedarnos': 1, 'dueño': 1, 'betito': 3, 'saben': 2, 'compañero': 1, 'humilde': 2, 'pensando': 1, 'demás': 5, 'llegará': 1, 'juntaremos': 1, 'seremos': 1, 'cuatro': 1, 'doce': 1, 'metemos': 1, 'banco': 1, 'arriba': 2, 'baja': 5, 'quieta': 2, 'rabia': 2, 'extraña': 1, 'extrañar': 1, 'trata': 1, 'monta': 1, 'metió': 1, 'derecha': 4, 'atrás': 4, 'encontramos': 1, 'llevan': 2, 'llamas': 5, 'toda': 3, 'asco': 1, 'plata': 1, 'imbécil': 4, 'murió': 1, 'nació': 1, 'peligroso': 1, 'acuérdate': 1, 'llamo': 1, 'vieron': 1, 'fui': 1, 'escapar': 2, 'solo': 4, 'totalmente': 1, 'tuvo': 1, 'tuve': 2, 'lindo': 2, 'salió': 2, 'bájense': 2, 'veces': 1, 'vuelve': 4, 'buscarlo': 1, 'dio': 1, 'desagradecida': 1, 'dejando': 1, 'sigámosla': 1, 'chau': 4, 'tenías': 1, 'pensada': 1, 'pienso': 1, 'sentimiento': 1, 'puro': 2, 'lisito': 1, 'quedar': 2, 'contra': 5, 'hogar': 1, 'arte': 1, 'abstracto': 1, 'adoro': 2, 'admiro': 1, 'buen': 2, 'gusto': 4, 'querida': 1, 'jugarle': 1, 'dile': 1, 'brother': 1, 'arreglan': 1, 'tranquila': 2, 'joyas': 1, 'corona': 1, 'atrevas': 1, 'cuatrojos': 1, 'arranco': 1, 'esófago': 1, 'tantas': 1, 'pendientes': 1, 'chino': 3, 'vi': 3, 'océano': 1, 'dejó': 1, 'mensaje': 1, 'déjame': 6, 'cálmate': 2, 'fuerza': 3, 'pudo': 1, 'preocupes': 1, 'hermano': 8, 'cortaron': 1, 'pelos': 1, 'entiendo': 2, 'duele': 1, 'acostumbrado': 1, 'manera': 1, 'encontrarlos': 1, 'será': 1, 'dividamos': 1, 'divide': 1, 'reinarás': 1, 'refrán': 1, 'tulio': 3, 'decía': 3, 'rivales': 1, 'dividir': 1, 'aclara': 1, 'corazón': 1, 'hicieron': 4, 'pensé': 2, 'iba': 2, 'malpa': 6, 'vete': 3, 'sálvate': 1, 'sin': 8, 'otro': 2, 'ah': 2, 'veo': 1, 'mía': 1, 'siente': 2, 'lesionado': 1, 'incapaz': 1, 'acaso': 1, 'queja': 1, 'cactus': 1, 'sequía': 1, 'embargo': 1, 'pincha': 1, 'pinchar': 1, 'caigo': 1, 'darme': 1, 'resbaladiza': 1, 'dejas': 2, 'caer': 1, 'animal': 3, 'ves': 4, 'cuadrúpedo': 1, 'cállate': 3, 'bípedo': 1, 'piernas': 3, 'llego': 1, 'grites': 1, 'gritar': 1, 'sácame': 1, 'ropa': 1, 'oveja': 1, 'esos': 2, 'bastardos': 1, 'encuéntralos': 1, 'tanto': 2, 'ubícate': 1, 'ruso': 1, 'cierto': 2, 'bienaventurado': 2, 'seas': 1, 'hermanito': 1, 'tranquilos': 1, 'pueden': 1, 'confiar': 1, 'divierten': 1, 'invitan': 1, 'amargo': 1, 'impresionante': 2, 'cerca': 1, 'feo': 3, 'tuviera': 1, 'manos': 2, 'libres': 1, 'hacen': 4, 'locos': 1, 'metas': 2, 'ocurre': 1, 'ponerte': 1, 'adorno': 2, 'perno': 1, 'espéranos': 2, 'brazos': 1, 'chance': 1, 'humillante': 1, 'bájenlo': 2, 'muerto': 1, 'cobardes': 2, 'gritarles': 1, 'compañeros': 2, 'desgracia': 1, 'estos': 3, 'desgraciados': 1, 'desgraciado': 1, 'tuvimos': 1, 'hagas': 1, 'reír': 1, 'cansé': 1, 'sacarte': 1, 'hermana': 1, 'digas': 1, 'recién': 2, 'entero': 1, 'alrededor': 1, 'dan': 1, 'cuenta': 1, 'une': 1, 'separa': 1, 'trabajar': 1, 'algo': 2, 'admiras': 1, 'oye': 2, 'defensa': 3, 'fácil': 4, 'caudillo': 2, 'dije': 1, 'época': 1, 'divertíamos': 1, 'marcar': 1, 'teníamos': 1, 'decíamos': 2, 'tonto': 1, 'búfalo': 1, 'déjate': 1, 'molestar': 1, 'eras': 1, 'toro': 1, 'parar': 3, 'jugamos': 2, 'horas': 1, 'acuerdo': 2, 'fuera': 2, 'vivo': 1, 'viejo': 4, 'tachola': 1, 'fiera': 1, 'controles': 1, 'tomaba': 1, 'borracho': 1, 'rompí': 1, 'vidrio': 1, 'quería': 2, 'pagara': 1, 'armamos': 2, 'fusión': 1, 'clásico': 1, 'moderno': 1, 'llave': 2, 'pastorcita': 1, 'correr': 1, 'rímel': 1, 'tus': 1, 'temblando': 1, 'fresco': 2, 'querido': 2, 'público': 3, 'vino': 1, 'despedirse': 1, 'humillen': 1, 'rueguen': 1, 'quedarse': 1, 'vean': 1, 'positivo': 1, 'sombra': 1, 'poder': 3, 'crecer': 1, 'bájame': 2, 'quítale': 1, 'peluca': 1, 'payaso': 1, 'teatro': 1, 'celos': 1, 'envidia': 1, 'armonía': 1, 'aplauso': 2, 'rescatarlos': 1, 'seguir': 1, 'buscando': 3, 'espérenme': 1, 'llegó': 1, 'esperen': 1, 'dejen': 1, 'abandonar': 1, 'sabe': 3, 'necesitan': 1, 'tira': 2, 'cuándo': 1, 'lejos': 1, 'peligro': 4, 'ella': 3, 'necesita': 1, 'tendrías': 3, 'haberle': 1, 'visto': 1, 'minas': 1, 'lugar': 2, 'siento': 3, 'cuarto': 1, 'chacra': 1, 'vacío': 1, 'dolor': 1, 'pecho': 1, 'triste': 1, 'seguimos': 1, 'algunos': 1, 'entretener': 1, 'caprichoso': 1, 'mansión': 1, 'abombado': 1, 'prende': 1, 'azul': 2, 'idiota': 2, 'visibilidad': 1, 'ventana': 1, 'responde': 1, 'verde': 4, 'dijiste': 1, 'terminar': 1, ':': 3, 'mis': 1, 'hombros': 1, 'cargo': 1, 'juegas': 2, 'creer': 5, 'obligan': 1, 'poner': 2, 'diez': 2, 'reglamento': 1, 'lanzando': 1, 'disco': 2, 'decorador': 1, 'cuánta': 1, 'ignorante': 1, 'dios': 3, 'emociona': 1, 'muestra': 3, 'frágil': 1, 'piel': 1, 'gallina': 1, 'haciendo': 2, 'detente': 2, 'fama': 1, 'éxito': 1, 'entendí': 1, 'gané': 10, 'ganaron': 1, 'genio': 1, 'dámela': 1, 'chupasangre': 1, 'mantengo': 1, 'localizados': 1, 'muñecos': 1, 'inofensivos': 2, 'representan': 1, 'lleva': 3, 'listo': 1, 'podríamos': 1, 'haber': 2, 'caminado': 1, 'camino': 1, '10': 1, 'm': 1, 'espónsor': 1, 'sus': 1, 'estrellas': 3, 'naturaleza': 1, 'ciencia': 1, 'músculos': 1, 'nanotecnología': 1, 'perfección': 1, 'perfeccionar': 1, 'palomas': 2, 'blancas': 1, 'miden': 1, 'blando': 1, 'actitud': 1, 'neutra': 1, 'tibio': 1, 'vomita': 1, 'rating': 1, '2': 5, 'aguerridas': 1, 'camiseta': 2, 'puesta': 1, 'avestruz': 2, 'australiano': 1, 'veloz': 1, 'patada': 2, 'mortal': 1, 'imaginas': 1, 'botín': 1, 'características': 1, 'pasaría': 1, 'mezclo': 1, 'montón': 1, 'chatarra': 1, 'botines': 1, 'quizá': 1, 'salen': 1, 'unos': 1, 'tapones': 1, 'buenísimos': 1, 'mejoro': 1, 'adherencia': 1, 'podré': 1, 'pisar': 1, 'resto': 2, 'piensa': 1, 'ventajas': 1, 'sobre': 2, 'mugrientos': 1, 'entiendes': 2, 'frente': 2, 'maestro': 1, 'sabiduría': 1, 'oriental': 1, 'tipo': 2, 'percibe': 1, 'pescamos': 1, 'escapa': 1, 'mortales': 1, 'barullo': 1, 'bruta': 1, 'burda': 1, 'sirve': 1, 'sígueme': 1, 'mostrando': 1, 'inventos': 3, 'pegó': 1, 'puerta': 1, 'enseñar': 2, 'listos': 1, 'ibas': 1, 'suéltalo': 2, 'déjala': 1, 'caí': 1, 'hundir': 2, 'asqueroso': 1, 'despacio': 1, 'pelito': 1, 'fauna': 1, 'peor': 1, 'pre': 1, 'temporada': 1, 'aflojes': 1, 'tengas': 1, 'volar': 1, 'vuelvan': 1, 'rescatar': 1, 'valioso': 1, 'única': 1, 'perjudicada': 1, 'hecho': 1, 'hombre': 1, 'entrenado': 1, 'desafiado': 1, 'vine': 1, 'rescatarte': 1, 'arreglar': 1, 'sola': 2, 'venía': 1, 'pensaste': 1, 'enamoraría': 1, 'coraje': 1, 'enfrentar': 1, 'muchísimo': 1, 'creías': 1, 'momento': 4, 'derroté': 1, 'jamás': 1, 'he': 1, 'perdido': 1, 'públicamente': 1, 'desafiar': 1, 'acepto': 1, 'niños': 1, 'fuiste': 1, 'cobarde': 2, 'hagámoslo': 1, 'interesante': 1, 'gana': 2, 'devuelven': 1, 'absolutos': 2, 'capaz': 1, 'demostrarme': 1, 'horribles': 1, 'muertos': 1, 'perros': 1, 'hacerle': 1, 'psicológica': 1, 'física': 1, 'aniquilan': 1, 'ju': 1, 'fút': 1, 'aceptan': 1, 'candidato': 1, 'laucha': 11, 'dicen': 1, 'prestas': 1, 'lapicera': 1, 'hij': 1, 'custodia': 1, 'gustaría': 1, 'custodiarlo': 1, 'sorpresa': 1, 'necesito': 1, 'marcador': 3, 'punta': 2, 'cura': 4, 'conformo': 1, 'volver': 2, 'deportivo': 5, 'desamparados': 2, 'gane': 1, 'copa': 1, 'libertadores': 1, 'promesas': 2, 'pasó': 5, 'compraron': 1, 'demolieron': 1, 'pusieron': 1, 'maxikiosco': 1, 'hombres': 1, 'idea': 3, 'participar': 1, 'podría': 1, 'afeitarse': 1, 'domingo': 1, 'duda': 1, 'paramos': 1, 'pararía': 1, '11': 2, 'colgados': 1, 'travesaño': 5, 'llenan': 1, 'canasta': 1, 'matar': 1, 'veinte': 1, 'meter': 2, 'exagerado': 1, '15': 1, 'espantosos': 1, 'conocí': 1, 'ninguno': 1, 'ellos': 2, 'llorando': 1, 'investigando': 1, 'monocultivo': 1, 'pastito': 1, 'hubiese': 1, 'pasaba': 2, 'masacrar': 1, 'perderlo': 1, 'poca': 1, 'fe': 1, 'entrenar': 1, 'fueron': 1, 'matamos': 1, 'entrenando': 1, 'aficionados': 1, 'juegan': 1, 'confía': 1, 'enciendan': 1, 'torre': 3, 'enciende': 1, 'enciéndela': 2, 'vemos': 1, 'dominio': 1, 'hablaba': 1, 'inaugural': 1, 'poderosísimo': 1, 'absoluto': 4, 'tecnología': 1, '1': 5, '300': 1, 'cámaras': 1, '800': 1, 'grúas': 1, '200': 1, 'satélites': 1, 'escaloncito': 1, 'pedir': 1, 'embromarse': 1, 'juan': 1, 'josé': 2, 'presenta': 1, 'impacienta': 1, 'soberano': 1, 'patrocinado': 1, 'imelda': 1, 'diamonds': 1, 'mugbook': 1, 'smartsung': 1, 'amelia': 1, 'benz': 1, 'lefty': 1, 'chic': 1, 'parrot': 1, 's': 1, 'shell': 1, 'lord': 1, 'vaseline': 1, 'ma': 1, 'che': 1, 'donald': 1, 'essa': 1, 'cheaty': 2, 'bank': 3, 'aguada': 1, 'coffee': 1, 'stores': 1, 'noentendo': 1, 'werner': 1, 'sisters': 1, 'of': 1, 'atlantis': 1, 'grupo': 1, 'preso': 2, 'whirl': 1, 'poo': 1, 'indy': 1, 'frunde': 1, 'd': 1, 'sheguen': 1, 'scorbut': 1, 'gourmet': 1, 'food': 1, 'incomparable': 1, 'árbitro': 3, 'cristóforo': 1, 'bomberini': 1, 'armando': 2, 'demóstenes': 1, 'ferrero': 6, 'párroco': 1, 'leguizamón': 2, 'vicente': 1, 'navarro': 3, 'carmiño': 3, 'loprete': 1, 'luis': 1, 'kracorian': 4, 'emo': 5, 'daniel': 1, 'quintana': 2, 'subcomisario': 4, 'bautista': 1, 'pisano': 1, 'claudio': 1, 'alcides': 1, 'pedro': 1, 'juvenal': 1, 'rodríguez': 1, 'evaristo': 1, 'roña': 4, 'cuevas': 3, 'hormona': 3, 'domínguez': 2, 'gonzález': 3, 'lencería': 1, 'elsa': 1, 'sabor': 1, 'suerte': 1, 'arranca': 2, 'retrocede': 1, 'prestando': 1, 'atención': 3, 'reclama': 1, 'implora': 1, 'reacciona': 1, 'centro': 7, 'corta': 2, 'tíralo': 2, 'cortas': 1, 'larga': 2, 'profundidad': 1, 'mcantony': 3, 'despeinarse': 1, 'profundo': 1, 'sampietro': 1, 'corre': 2, 'assaidi': 6, 'der': 1, 'luvin': 1, 'ayrton': 2, 'profundiza': 1, 'entrada': 1, 'bubaye': 6, 'dejan': 1, 'desvía': 1, 'pone': 5, 'minuto': 1, 'faltan': 3, '89': 1, 'minutos': 1, 'cueva': 2, 'terreno': 1, 'inaudito': 1, 'derriba': 1, 'servido': 1, 'contraataque': 1, 'saca': 3, 'prendido': 1, 'abrojo': 1, 'festín': 1, 'taco': 1, 'rabona': 1, 'bolea': 2, 'milagro': 1, 'lárgala': 1, 'perdiendo': 1, 'caso': 1, 'preparando': 1, 'buscándolo': 1, 'intercepta': 1, 'lastimoso': 1, 'avanza': 2, 'elimina': 1, 'marca': 2, 'ante': 1, 'marcadores': 1, 'referee': 1, 'error': 2, 'arquero': 3, 'masacre': 2, 'emoción': 1, 'aburridísimo': 1, 'destruyo': 1, 'destruyas': 1, 'suspenso': 1, 'bombardear': 1, 'bailen': 1, 'rato': 1, 'diviértanse': 1, 'olvides': 2, 'negocio': 1, 'pecado': 1, 'toqué': 1, 'conoce': 2, 'situación': 1, 'triunfo': 1, 'gloria': 1, 'palabras': 1, 'quedé': 1, 'aforismos': 1, 'dice': 6, 'dispuesto': 1, 'reglas': 1, 'importan': 1, 'amistad': 2, 'terruño': 1, 'opción': 1, 'pasión': 1, 'llaman': 1, 'sigan': 1, 'verdadera': 1, 'local': 6, 'dominada': 2, 'supera': 1, 'estirada': 1, 'derrumba': 1, 'inexplicablemente': 1, 'mantengan': 1, 'calma': 1, 'acabó': 1, 'empezó': 1, 'guerra': 1, 'avance': 1, 'túnel': 1, 'avanzan': 1, 'prepara': 3, 'disparo': 2, 'fusilamiento': 1, 'ejecución': 1, 'llegar': 1, 'cruce': 2, 'modo': 1, 'detengan': 1, 'derechazo': 1, 'tirada': 1, 'monumental': 1, 'aire': 1, 'inútiles': 2, 'sale': 2, 'intento': 1, 'cruzar': 1, 'pega': 1, 'órbita': 1, 'hubiera': 1, 'dicho': 1, 'llegamos': 1, 'sigue': 1, 'acción': 1, 'enfrentarlo': 1, 'levántate': 1, 'ocurra': 1, 'cobrar': 1, 'siga': 3, 'olviden': 1, 'roba': 1, 'mendiguri': 3, 'comete': 1, 'propio': 1, 'principiante': 1, 'amaga': 1, 'foul': 2, 'primera': 1, 'combinado': 3, 'conseguido': 1, 'acercarse': 1, 'amarilla': 2, 'llevarlo': 1, 'patea': 1, 'sobrevuela': 1, 'barrera': 1, 'dirige': 1, 'posición': 1, 'said': 1, 'increíble': 2, 'tiro': 3, 'equivocación': 1, 'incomprensible': 1, 'horror': 2, 'cantemos': 1, 'victoria': 2, 'comienza': 1, 'inteligencia': 1, 'toma': 2, 'persigue': 1, 'adelanta': 1, 'elude': 1, 'dubigny': 1, 'aparece': 1, 'enclenque': 1, 'planchazo': 1, 'patéalo': 1, 'encargamos': 1, 'alambre': 1, 'púa': 1, 'zancadillas': 1, 'trampas': 1, 'retirada': 1, 'perfecta': 1, 'devuelve': 1, 'arrasante': 1, 'entra': 2, 'selva': 1, 'punto': 1, 'final': 2, 'iguala': 1, 'palomita': 1, 'emotivo': 1, 'emocionante': 1, 'cuánto': 3, '7': 1, 'siete': 3, 'encara': 1, 'ganarlo': 1, 'defensores': 1, 'abandonan': 1, 'heroica': 1, 'señores': 1, 'dentro': 1, 'velocidad': 1, 'ángulo': 1, 'criminal': 1, 'humanidad': 1, 'advierte': 1, 'penal': 2, 'intentando': 1, 'torcer': 1, 'destino': 1, 'semejante': 1, 'área': 1, 'escuche': 1, 'justamente': 2, 'perdimos': 1, 'aplauden': 2, 'aplaudir': 1, 'gritando': 1, 'nombre': 1, 'pago': 1, 'pagas': 1, 'renuncio': 1, 'estrella': 1, 'ídolo': 2, 'apagan': 1, 'ídolos': 1, 'caen': 1, 'cracks': 1, 'envejecen': 1, 'managers': 1, 'eternos': 1, 'daría': 1, 'pintada': 1, 'bor': 1, 'sorprendente': 1, 'pregunten': 2, 'consiguió': 1, 'meterse': 2, 'discutirle': 1, 'prefirieron': 1, 'fundar': 1, 'vivir': 1, 'casaron': 1, 'tuvieron': 1, 'creo': 1, 'conté': 1, 'real': 1, 'existen': 1, 'vivos': 1, 'marqué': 1, 'tatuaje': 5, 'patear': 1, 'pareces': 1, 'bailarina': 1, 'quince': 1, 'metros': 1, 'cóbrale': 1, 'ganan': 1, 'granates': 1, 'cualquier': 2, 'pasar': 1, 'fundadores': 1}\n",
      "Frase completada: vamos amadeo que ,\n"
     ]
    }
   ],
   "source": [
    "import re\n",
    "import random\n",
    "from collections import defaultdict, Counter\n",
    "\n",
    "class NgramModel:\n",
    "    def __init__(self, n):\n",
    "        self.n = n\n",
    "        self.ngram_counts = defaultdict(lambda: defaultdict(int))\n",
    "        self.global_word_counts = defaultdict(int)  # Frecuencia global de palabras\n",
    "\n",
    "    def train(self, text):\n",
    "        \"\"\"\n",
    "        Entrena el modelo de n-gramas usando un texto dado.\n",
    "        \"\"\"\n",
    "        text = text.lower()  # Ignorar mayúsculas y minúsculas\n",
    "        words = re.findall(r'\\w+|[.,!?;:]', text)\n",
    "        for i in range(len(words) - self.n + 1):\n",
    "            ngram = tuple(words[i:i + self.n - 1])\n",
    "            next_word = words[i + self.n - 1]\n",
    "            self.ngram_counts[ngram][next_word] += 1\n",
    "\n",
    "        # Contar frecuencias globales de palabras\n",
    "        for word in words:\n",
    "            self.global_word_counts[word] += 1\n",
    "        print(f\"Frecuencias globales: {dict(self.global_word_counts)}\")\n",
    "\n",
    "    def complete_sentence(self, partial_sentence):\n",
    "        \"\"\"\n",
    "        Completa la frase dada (con una palabra faltante).\n",
    "        \"\"\"\n",
    "        partial_sentence = partial_sentence.lower()  # Convertir a minúsculas\n",
    "        words = re.findall(r'\\w+', partial_sentence)\n",
    "\n",
    "        if len(words) < self.n - 1:\n",
    "            raise ValueError(f\"La frase debe tener al menos {self.n - 1} palabras para completar.\")\n",
    "\n",
    "        # Tomar las últimas (n-1) palabras del contexto dado\n",
    "        context = words[-(self.n - 1):]\n",
    "        next_word = self.predict_next_word(context)\n",
    "        \n",
    "        # Devolver la frase completada\n",
    "        return ' '.join(words) + ' ' + next_word\n",
    "\n",
    "    def predict_next_word(self, context):\n",
    "        \"\"\"\n",
    "        Predice la siguiente palabra basándose en el contexto de n-1 palabras.\n",
    "        Si el contexto no existe, selecciona una palabra basada en coincidencias parciales o globales.\n",
    "        \"\"\"\n",
    "        if len(context) != self.n - 1:\n",
    "            raise ValueError(f\"El contexto debe tener {self.n - 1} palabras.\")\n",
    "\n",
    "        context_tuple = tuple(context)\n",
    "        next_word_candidates = self.ngram_counts.get(context_tuple, None)\n",
    "\n",
    "        if next_word_candidates:\n",
    "            # Caso 1: El contexto existe exactamente\n",
    "            words, counts = zip(*next_word_candidates.items())\n",
    "            probabilities = [count / sum(counts) for count in counts]\n",
    "            # print(f\"Candidatos exactos: {words}, Probabilidades: {probabilities}\")\n",
    "            return random.choices(words, probabilities)[0]\n",
    "        else:\n",
    "            # Caso 2: Buscar coincidencias parciales\n",
    "            partial_matches = self.find_partial_matches(context)\n",
    "            if partial_matches:\n",
    "                words, counts = zip(*partial_matches.items())\n",
    "                probabilities = [count / sum(counts) for count in counts]\n",
    "                # print(f\"Candidatos parciales: {words}, Probabilidades: {probabilities}\")\n",
    "                return random.choices(words, probabilities)[0]\n",
    "            else:\n",
    "                # Caso 3: Selección aleatoria global como último recurso\n",
    "                # print(f\"El contexto {' '.join(context)} no tiene coincidencias exactas ni parciales.\")\n",
    "                words, counts = zip(*self.global_word_counts.items())\n",
    "                probabilities = [count / sum(counts) for count in counts]\n",
    "                return random.choices(words, probabilities)[0]\n",
    "                pass\n",
    "\n",
    "    def find_partial_matches(self, context):\n",
    "        \"\"\"\n",
    "        Encuentra palabras que podrían ser candidatas basándose en coincidencias parciales del contexto.\n",
    "        \"\"\"\n",
    "        matches = Counter()\n",
    "        for ngram, next_words in self.ngram_counts.items():\n",
    "            # Verifica cuántas palabras del contexto están presentes en el ngram\n",
    "            if any(word in ngram for word in context):\n",
    "                for word, count in next_words.items():\n",
    "                    matches[word] += count\n",
    "        return matches\n",
    "\n",
    "# Ejemplo de uso\n",
    "if __name__ == \"__main__\":\n",
    "    with open(\"metegol_limpio.txt\", \"r\", encoding=\"utf-8\") as file:\n",
    "        texto_entrenamiento = file.read()\n",
    "\n",
    "    model = NgramModel(n=3)\n",
    "    model.train(texto_entrenamiento)\n",
    "\n",
    "    # Completar una frase con una palabra faltante\n",
    "    partial_sentence = \"vamos amadeo que\"  # Contexto parcialmente válido\n",
    "    completed_sentence = model.complete_sentence(partial_sentence)\n",
    "    print(f\"Frase completada: {completed_sentence}\")\n"
   ]
  },
  {
   "cell_type": "code",
   "execution_count": 4,
   "metadata": {},
   "outputs": [
    {
     "name": "stdout",
     "output_type": "stream",
     "text": [
      "Frecuencias globales: {'papá': 4, '?': 251, '!': 268, 'qué': 105, 'pasa': 19, 'haces': 16, 'tú': 40, 'vamos': 53, ',': 446, 've': 8, 'a': 178, 'dormir': 2, '.': 1171, 'no': 275, 'hay': 16, 'nada': 28, 'que': 143, 'hacer': 8, 'cree': 1, 'por': 71, 'eso': 20, 'los': 55, 'me': 79, 'parece': 9, 'ya': 14, 'es': 66, 'hora': 6, 'de': 130, 'contarle': 1, 'entonces': 4, 'si': 31, 'está': 19, 'todo': 21, 'el': 227, 'día': 2, 'enchufado': 1, 'en': 58, 'ese': 9, 'aparato': 1, 'ni': 14, 'escucha': 2, 'soy': 20, 'un': 88, 'fracaso': 3, 'como': 20, 'padre': 5, 'amarguísimo': 1, 'hablar': 4, 'con': 47, 'él': 10, 'tranquilo': 5, 'eh': 2, 'mati': 1, 'puedo': 8, 'contigo': 2, 'estoy': 18, 'dormido': 1, 'mañana': 3, 'dejaste': 2, 'juego': 6, 'encendido': 1, 'mira': 17, 'jugada': 2, 'difícil': 2, 'cómo': 39, 'hiciste': 4, 'muéstrame': 1, 'dime': 1, 'estabas': 1, 'durmiendo': 1, 'tenemos': 8, 'ponte': 1, 'cómodo': 1, 'te': 86, 'voy': 19, 'contar': 1, 'una': 38, 'historia': 4, 'pero': 39, 'tienes': 12, 'usar': 1, 'tu': 8, 'imaginación': 1, 'esto': 27, 'ocurrió': 1, 'hace': 5, 'poco': 1, 'tiempo': 5, 'pueblo': 29, 'muy': 10, 'cercano': 1, 'donde': 2, 'había': 3, 'plaza': 1, 'la': 152, 'nuestra': 2, 'estatua': 2, 'fundador': 2, 'nuestros': 1, 'y': 110, 'también': 6, 'bar': 7, 'nuestro': 4, 'eusebio': 9, 'número': 3, 'trascendental': 1, 'expresa': 1, 'radio': 1, 'circunferencia': 1, 'al': 42, 'diámetro': 1, 'del': 44, 'círculo': 1, 'dos': 8, 'letras': 2, 'pi': 4, 'apellido': 1, 'famoso': 2, 'autor': 1, 'teatral': 1, 'william': 1, 'trabajaba': 1, 'chico': 2, 'niño': 8, 'igual': 4, 'yo': 54, 'amadeo': 64, 'apúrate': 2, 'tenía': 1, 'gran': 3, 'debilidad': 2, 'cada': 2, 'vez': 12, 'se': 83, 'menos': 3, 'mí': 20, 'hola': 5, 'encanta': 2, 'helado': 1, 'ti': 18, 'gusta': 3, 'va': 16, 'gustar': 1, 'laurita': 5, 'tiene': 13, 'novio': 2, 'doble': 6, 'eje': 6, 'lo': 83, 'hizo': 7, 'mostrar': 1, 'mi': 26, 'equipo': 17, 'encantaría': 1, 'ven': 13, 'vas': 14, 'ver': 13, 'quedó': 2, 'estaba': 7, 'cansado': 2, 'mismos': 1, 'jugadores': 6, 'ahora': 20, 'son': 16, 'distintos': 1, 'únicos': 1, 'hermoso': 3, 'domina': 2, 'lechuga': 2, 'cinco': 3, 'antes': 3, 'pase': 7, 'corto': 3, 'para': 53, 'milton': 1, 'ritmo': 1, 'trópico': 1, 'sangre': 1, 'abre': 2, 'balón': 4, 'igor': 1, 'frío': 3, 'cálculo': 1, 'bloque': 1, 'bielorruso': 1, 'pisa': 3, 'amasa': 2, 'mellizo': 1, 'malparitti': 4, 'muralla': 1, 'pared': 2, 'cabeza': 6, 'clara': 1, 'ánimo': 2, 'negro': 1, 'noche': 3, 'pide': 2, 'pulpo': 2, 'benítez': 1, 'elástico': 1, 'mimbre': 2, 'bajo': 3, 'tres': 4, 'palos': 1, 'banda': 1, 'coreano': 4, 'parlí': 1, 'silencio': 1, 'persona': 2, 'junto': 1, 'lateral': 1, 'sorpresivo': 1, 'cordobés': 3, 'melena': 1, 'mágicos': 1, 'adelante': 4, 'recibe': 5, 'loco': 12, 'poeta': 1, 'gol': 38, 'beto': 43, 'jugador': 2, 'más': 29, 'carismático': 1, 'continente': 1, 'levanta': 2, 'desmarcado': 1, 'capitán': 3, 'único': 3, 'inigualable': 1, 'distinto': 1, 'amigo': 2, 'capi': 12, 'clava': 1, 'abajo': 4, 'sí': 29, 'golazo': 3, 'lisos': 3, 'importa': 10, 'nuevo': 11, 'quiero': 13, 'jugar': 9, 'quiere': 6, 'conmigo': 4, 'tuya': 2, 'ey': 5, 'hablo': 1, 'quieres': 10, 'eres': 12, 'crack': 3, 'fútbol': 8, 'juguete': 2, 'mudito': 1, 'pobrecito': 3, 'le': 25, 'da': 4, 'vergüenza': 2, 'tan': 3, 'bueno': 11, 'juega': 3, 'uno': 6, 'miedo': 10, 'juégale': 1, 'favor': 23, 'cuesta': 1, 'hazlo': 1, 'ruego': 1, 'suplico': 1, 'pido': 3, 'rodillas': 1, 'tengo': 20, 'concentrando': 1, 'campeón': 5, 'entrenador': 1, 'acabo': 1, 'tirar': 1, 'esa': 1, 'pude': 3, 'dura': 1, 'estatuita': 1, 'ataca': 2, 'otra': 9, 'liso': 2, 'ser': 8, 'goleada': 1, 'segura': 1, 'ramiro': 2, 'izquierda': 4, 'sergio': 2, 'pobrecita': 1, 'pollito': 1, 'necesitas': 2, 'madre': 3, 'gallinita': 1, 'verlas': 1, 'madres': 1, 'gallinitas': 1, 'gonzalo': 2, 'jorge': 2, 'dame': 6, 'pelota': 11, 'empatamos': 1, 'metegol': 15, 'existe': 2, 'empate': 1, 'quieras': 3, 'bien': 20, 'partido': 13, 'terminó': 2, 'ganar': 9, 'monedas': 1, 'pelotas': 1, 'suéltame': 3, 'siempre': 15, 'gano': 1, 'maldito': 1, 'odio': 8, 'culpa': 1, 'haberlo': 2, 'fundado': 1, 'así': 12, 'perder': 3, 'esta': 11, 'sé': 10, 'río': 1, 'norte': 1, 'italia': 1, 'muchachos': 17, 'nos': 25, 'entendemos': 1, 'quién': 17, 'anima': 1, 'partidito': 4, 'doy': 1, 'revancha': 3, 'amadeus': 1, 'tal': 4, 'estamos': 5, 'grandes': 1, 'adónde': 5, 'ciudad': 1, 'estudiar': 1, 'estuve': 2, 'ahorrando': 1, 'durante': 1, 'años': 3, 'porque': 8, 'carísimo': 1, 'gastar': 1, 'tener': 3, 'futuro': 3, 'griegos': 1, 'romanos': 1, 'hasta': 5, 'suizo': 1, 'tienen': 4, 'parte': 3, 'dices': 5, 'orgulloso': 1, 'hago': 4, 'mil': 2, 'cosas': 7, 'tema': 3, 'están': 8, 'oxidando': 1, 'además': 4, 'medio': 7, 'campo': 4, 'problema': 1, 'ahí': 9, 'comunicación': 1, 'falta': 5, 'diálogo': 1, 'desarrollando': 1, 'técnica': 1, 'molinete': 2, 'triple': 1, 'muchas': 2, 'puedes': 4, 'pensar': 1, 'pasas': 2, 'jugando': 2, 'buenas': 1, 'tardes': 1, 'queridísimos': 1, 'habitantes': 2, 'este': 16, 'maravilloso': 3, 'poblado': 1, 'alegría': 1, 'todos': 12, 'basta': 4, 'tristeza': 1, 'venimos': 1, 'anunciar': 1, 'apertura': 1, 'universal': 3, 'astro': 3, 'aquí': 6, 'emprendimiento': 1, 'monodeportivo': 1, 'atraerá': 1, 'turistas': 1, 'estas': 3, 'tierras': 1, 'dinero': 2, 'vuestros': 1, 'bolsillos': 1, 'concebido': 1, 'planeado': 1, 'financiado': 1, 'ha': 1, 'sido': 2, 'verdadero': 1, 'hijo': 7, 'técnicos': 1, 'teman': 2, 'gente': 4, 'vinimos': 1, 'hacerles': 1, 'daño': 1, 'somos': 8, 'amigos': 1, 'era': 14, 'simple': 1, 'cuando': 7, 'llevamos': 1, 'megaestrella': 1, 'internacional': 1, 'ezequiel': 2, 'remacho': 2, 'grosso': 16, 'gracias': 8, 'pequeño': 4, 'maravillosa': 1, 'bienvenida': 3, 'han': 1, 'pasado': 1, 'muchos': 1, 'desde': 1, 'aquella': 1, 'nunca': 8, 'olvidarme': 1, 'nuestras': 1, 'vidas': 1, 'estarán': 1, 'ligadas': 1, 'sigues': 1, 'diciendo': 2, 'obvio': 2, 'mío': 1, 'tuyo': 6, 'intendente': 3, 'después': 4, 'les': 6, 'explico': 1, 'adiós': 1, 'necesitamos': 5, 'bienvenidos': 2, 'claro': 5, 'homenaje': 2, 'deporte': 2, 'noble': 1, 'estadio': 4, 'grande': 3, 'mundo': 4, 'paseos': 1, 'turísticos': 1, 'parque': 1, 'temático': 1, 'museo': 1, 'dedicado': 1, 'figura': 1, 'importante': 1, 'su': 4, 'acá': 21, 'queremos': 1, 'ningún': 3, 'olvidé': 1, 'tampoco': 2, 'las': 14, 'obras': 1, 'comenzarán': 1, 'hoy': 2, 'mismo': 4, 'empezaremos': 1, 'alto': 5, 'rápido': 2, 'salgan': 1, 'páralos': 1, 'imposible': 4, 'puede': 8, 'detener': 1, 'progreso': 1, 'sal': 2, 'espera': 12, 'hacernos': 1, 'tráeme': 1, 'o': 9, 'vuelvas': 1, 'vayas': 1, 'tolerar': 1, 'razón': 3, 'casi': 1, 'escúchame': 1, 'decir': 5, 'dejar': 2, 'paz': 3, 'escuches': 1, 'oídos': 1, 'serio': 5, 'aprietes': 1, 'botones': 2, 'laura': 13, 'cambia': 1, 'cara': 6, 'hermanos': 1, '3': 8, '724': 1, 'partidos': 2, 'invictos': 1, 'juntos': 4, 'pesadilla': 3, 'despertar': 1, 'estará': 1, 'desanimes': 2, 'todavía': 4, 'dar': 3, 'vuelta': 3, 'estás': 14, 'cargando': 1, 'darlo': 1, 'máximo': 1, 'hablas': 1, 'desperdicié': 1, 'vida': 8, 'mucho': 10, 'quédate': 1, 'quieto': 1, 'tronco': 1, 'sirvo': 1, 'ir': 3, 'retenerla': 1, 'encima': 3, 'hablando': 1, 'pedazo': 2, 'plomo': 2, 'normal': 1, 'terminaste': 1, 'wing': 1, 'izquierdo': 1, 'mejor': 10, 'invicto': 1, 'vista': 1, 'certera': 1, 'equilibrio': 1, 'perfecto': 2, 'muñeca': 1, 'suprema': 1, 'olvidaste': 1, 'desafío': 6, 'mecánico': 3, 'lado': 5, 'destruyendo': 1, 'reía': 7, 'acuerdas': 4, 'ardilla': 1, '0': 5, 'perdíamos': 1, 'dimos': 1, '4': 7, 'imbatibles': 1, 'nadie': 7, 'busquemos': 1, 'fierro': 1, 'mujeres': 2, 'van': 17, 'vienen': 2, 'crees': 1, 'alguna': 3, 'vayan': 2, 'quieren': 1, 'completo': 2, 'hacemos': 2, 'olvídate': 3, 'buscar': 3, 'adentro': 1, 'conozco': 2, 'centímetro': 1, 'afuera': 3, 'tiempito': 1, 'basura': 4, 'dónde': 6, 'queda': 4, 'basural': 2, 'verdad': 5, 'ganamos': 1, 'goles': 5, 'míos': 1, 'último': 1, 'fue': 10, 'offside': 1, 'línea': 1, 'especial': 1, 'casa': 2, 'fin': 2, 'semana': 2, 'agárrate': 5, 'fuerte': 5, 'estupendo': 1, 'días': 2, 'siguen': 1, 'volviendo': 1, 'encontrar': 1, 'paso': 5, 'calmémonos': 1, 'arremanguémonos': 1, 'empezamos': 2, 'guau': 1, 'viaje': 1, 'uh': 1, 'epa': 1, 'agrandó': 1, 'cancha': 3, 'socorro': 2, 'viste': 4, 'felices': 1, 'ojos': 2, 'sabes': 5, 'sufrimos': 1, 'separación': 1, 'miren': 6, 'estar': 3, 'suelto': 1, 'olé': 7, 'salchichas': 2, 'puré': 2, 'cuidado': 7, 'gira': 4, 'pelo': 3, 'libre': 7, 'sol': 1, 'goleador': 11, 'agárrense': 4, 'perdón': 2, 'confundió': 1, 'síguele': 1, 'corriente': 1, 'volvió': 1, 'escuchando': 1, 'repito': 1, 'rata': 3, 'comió': 1, 'cerebro': 1, 'sabemos': 1, 'inútil': 4, 'marcas': 1, 'golpeó': 1, 'golpear': 1, 'fanfarrón': 2, 'mano': 4, 'ato': 1, 'provoques': 2, 'digo': 4, 'hice': 3, 'solito': 1, 'mal': 2, 'unidos': 1, 'alineados': 1, 'universo': 5, 'arco': 2, 'iris': 1, 'ambulancia': 1, 'viene': 4, 'llevar': 2, 'pobre': 3, 'chiflado': 1, 'agarre': 1, 'ate': 1, 'acerques': 1, 'parto': 1, 'mato': 2, 'solos': 1, 'ustedes': 3, 'sabías': 1, 'llanto': 1, 'estela': 3, 'deja': 3, 'alma': 1, 'mar': 1, 'existencia': 1, 'dijo': 1, 'callas': 1, 'digan': 1, 'calle': 1, 'confundamos': 1, 'cosa': 8, 'sensibilidad': 1, 'estupidez': 2, 'cierra': 1, 'boca': 1, 'metiendo': 1, 'calentando': 1, 'patéticos': 1, 'lisandro': 1, 'bordó': 6, 'granate': 4, 'linda': 3, 'toca': 1, 'llenó': 1, 'pides': 2, '30': 2, 'arrugaron': 1, 'comieron': 1, 'lengua': 1, 'ratones': 1, 'nosotros': 6, 'comer': 2, 'demuestres': 1, 'allá': 5, 'entró': 1, 'llevaron': 3, 'defendimos': 1, 'valemos': 3, 'vale': 1, 'déjalo': 1, 'habla': 1, 'irnos': 1, 'podemos': 2, 'quedarnos': 1, 'dueño': 1, 'betito': 3, 'saben': 2, 'compañero': 1, 'humilde': 2, 'pensando': 1, 'demás': 5, 'llegará': 1, 'juntaremos': 1, 'seremos': 1, 'cuatro': 1, 'doce': 1, 'metemos': 1, 'banco': 1, 'arriba': 2, 'baja': 5, 'quieta': 2, 'rabia': 2, 'extraña': 1, 'extrañar': 1, 'trata': 1, 'monta': 1, 'metió': 1, 'derecha': 4, 'atrás': 4, 'encontramos': 1, 'llevan': 2, 'llamas': 5, 'toda': 3, 'asco': 1, 'plata': 1, 'imbécil': 4, 'murió': 1, 'nació': 1, 'peligroso': 1, 'acuérdate': 1, 'llamo': 1, 'vieron': 1, 'fui': 1, 'escapar': 2, 'solo': 4, 'totalmente': 1, 'tuvo': 1, 'tuve': 2, 'lindo': 2, 'salió': 2, 'bájense': 2, 'veces': 1, 'vuelve': 4, 'buscarlo': 1, 'dio': 1, 'desagradecida': 1, 'dejando': 1, 'sigámosla': 1, 'chau': 4, 'tenías': 1, 'pensada': 1, 'pienso': 1, 'sentimiento': 1, 'puro': 2, 'lisito': 1, 'quedar': 2, 'contra': 5, 'hogar': 1, 'arte': 1, 'abstracto': 1, 'adoro': 2, 'admiro': 1, 'buen': 2, 'gusto': 4, 'querida': 1, 'jugarle': 1, 'dile': 1, 'brother': 1, 'arreglan': 1, 'tranquila': 2, 'joyas': 1, 'corona': 1, 'atrevas': 1, 'cuatrojos': 1, 'arranco': 1, 'esófago': 1, 'tantas': 1, 'pendientes': 1, 'chino': 3, 'vi': 3, 'océano': 1, 'dejó': 1, 'mensaje': 1, 'déjame': 6, 'cálmate': 2, 'fuerza': 3, 'pudo': 1, 'preocupes': 1, 'hermano': 8, 'cortaron': 1, 'pelos': 1, 'entiendo': 2, 'duele': 1, 'acostumbrado': 1, 'manera': 1, 'encontrarlos': 1, 'será': 1, 'dividamos': 1, 'divide': 1, 'reinarás': 1, 'refrán': 1, 'tulio': 3, 'decía': 3, 'rivales': 1, 'dividir': 1, 'aclara': 1, 'corazón': 1, 'hicieron': 4, 'pensé': 2, 'iba': 2, 'malpa': 6, 'vete': 3, 'sálvate': 1, 'sin': 8, 'otro': 2, 'ah': 2, 'veo': 1, 'mía': 1, 'siente': 2, 'lesionado': 1, 'incapaz': 1, 'acaso': 1, 'queja': 1, 'cactus': 1, 'sequía': 1, 'embargo': 1, 'pincha': 1, 'pinchar': 1, 'caigo': 1, 'darme': 1, 'resbaladiza': 1, 'dejas': 2, 'caer': 1, 'animal': 3, 'ves': 4, 'cuadrúpedo': 1, 'cállate': 3, 'bípedo': 1, 'piernas': 3, 'llego': 1, 'grites': 1, 'gritar': 1, 'sácame': 1, 'ropa': 1, 'oveja': 1, 'esos': 2, 'bastardos': 1, 'encuéntralos': 1, 'tanto': 2, 'ubícate': 1, 'ruso': 1, 'cierto': 2, 'bienaventurado': 2, 'seas': 1, 'hermanito': 1, 'tranquilos': 1, 'pueden': 1, 'confiar': 1, 'divierten': 1, 'invitan': 1, 'amargo': 1, 'impresionante': 2, 'cerca': 1, 'feo': 3, 'tuviera': 1, 'manos': 2, 'libres': 1, 'hacen': 4, 'locos': 1, 'metas': 2, 'ocurre': 1, 'ponerte': 1, 'adorno': 2, 'perno': 1, 'espéranos': 2, 'brazos': 1, 'chance': 1, 'humillante': 1, 'bájenlo': 2, 'muerto': 1, 'cobardes': 2, 'gritarles': 1, 'compañeros': 2, 'desgracia': 1, 'estos': 3, 'desgraciados': 1, 'desgraciado': 1, 'tuvimos': 1, 'hagas': 1, 'reír': 1, 'cansé': 1, 'sacarte': 1, 'hermana': 1, 'digas': 1, 'recién': 2, 'entero': 1, 'alrededor': 1, 'dan': 1, 'cuenta': 1, 'une': 1, 'separa': 1, 'trabajar': 1, 'algo': 2, 'admiras': 1, 'oye': 2, 'defensa': 3, 'fácil': 4, 'caudillo': 2, 'dije': 1, 'época': 1, 'divertíamos': 1, 'marcar': 1, 'teníamos': 1, 'decíamos': 2, 'tonto': 1, 'búfalo': 1, 'déjate': 1, 'molestar': 1, 'eras': 1, 'toro': 1, 'parar': 3, 'jugamos': 2, 'horas': 1, 'acuerdo': 2, 'fuera': 2, 'vivo': 1, 'viejo': 4, 'tachola': 1, 'fiera': 1, 'controles': 1, 'tomaba': 1, 'borracho': 1, 'rompí': 1, 'vidrio': 1, 'quería': 2, 'pagara': 1, 'armamos': 2, 'fusión': 1, 'clásico': 1, 'moderno': 1, 'llave': 2, 'pastorcita': 1, 'correr': 1, 'rímel': 1, 'tus': 1, 'temblando': 1, 'fresco': 2, 'querido': 2, 'público': 3, 'vino': 1, 'despedirse': 1, 'humillen': 1, 'rueguen': 1, 'quedarse': 1, 'vean': 1, 'positivo': 1, 'sombra': 1, 'poder': 3, 'crecer': 1, 'bájame': 2, 'quítale': 1, 'peluca': 1, 'payaso': 1, 'teatro': 1, 'celos': 1, 'envidia': 1, 'armonía': 1, 'aplauso': 2, 'rescatarlos': 1, 'seguir': 1, 'buscando': 3, 'espérenme': 1, 'llegó': 1, 'esperen': 1, 'dejen': 1, 'abandonar': 1, 'sabe': 3, 'necesitan': 1, 'tira': 2, 'cuándo': 1, 'lejos': 1, 'peligro': 4, 'ella': 3, 'necesita': 1, 'tendrías': 3, 'haberle': 1, 'visto': 1, 'minas': 1, 'lugar': 2, 'siento': 3, 'cuarto': 1, 'chacra': 1, 'vacío': 1, 'dolor': 1, 'pecho': 1, 'triste': 1, 'seguimos': 1, 'algunos': 1, 'entretener': 1, 'caprichoso': 1, 'mansión': 1, 'abombado': 1, 'prende': 1, 'azul': 2, 'idiota': 2, 'visibilidad': 1, 'ventana': 1, 'responde': 1, 'verde': 4, 'dijiste': 1, 'terminar': 1, ':': 3, 'mis': 1, 'hombros': 1, 'cargo': 1, 'juegas': 2, 'creer': 5, 'obligan': 1, 'poner': 2, 'diez': 2, 'reglamento': 1, 'lanzando': 1, 'disco': 2, 'decorador': 1, 'cuánta': 1, 'ignorante': 1, 'dios': 3, 'emociona': 1, 'muestra': 3, 'frágil': 1, 'piel': 1, 'gallina': 1, 'haciendo': 2, 'detente': 2, 'fama': 1, 'éxito': 1, 'entendí': 1, 'gané': 10, 'ganaron': 1, 'genio': 1, 'dámela': 1, 'chupasangre': 1, 'mantengo': 1, 'localizados': 1, 'muñecos': 1, 'inofensivos': 2, 'representan': 1, 'lleva': 3, 'listo': 1, 'podríamos': 1, 'haber': 2, 'caminado': 1, 'camino': 1, '10': 1, 'm': 1, 'espónsor': 1, 'sus': 1, 'estrellas': 3, 'naturaleza': 1, 'ciencia': 1, 'músculos': 1, 'nanotecnología': 1, 'perfección': 1, 'perfeccionar': 1, 'palomas': 2, 'blancas': 1, 'miden': 1, 'blando': 1, 'actitud': 1, 'neutra': 1, 'tibio': 1, 'vomita': 1, 'rating': 1, '2': 5, 'aguerridas': 1, 'camiseta': 2, 'puesta': 1, 'avestruz': 2, 'australiano': 1, 'veloz': 1, 'patada': 2, 'mortal': 1, 'imaginas': 1, 'botín': 1, 'características': 1, 'pasaría': 1, 'mezclo': 1, 'montón': 1, 'chatarra': 1, 'botines': 1, 'quizá': 1, 'salen': 1, 'unos': 1, 'tapones': 1, 'buenísimos': 1, 'mejoro': 1, 'adherencia': 1, 'podré': 1, 'pisar': 1, 'resto': 2, 'piensa': 1, 'ventajas': 1, 'sobre': 2, 'mugrientos': 1, 'entiendes': 2, 'frente': 2, 'maestro': 1, 'sabiduría': 1, 'oriental': 1, 'tipo': 2, 'percibe': 1, 'pescamos': 1, 'escapa': 1, 'mortales': 1, 'barullo': 1, 'bruta': 1, 'burda': 1, 'sirve': 1, 'sígueme': 1, 'mostrando': 1, 'inventos': 3, 'pegó': 1, 'puerta': 1, 'enseñar': 2, 'listos': 1, 'ibas': 1, 'suéltalo': 2, 'déjala': 1, 'caí': 1, 'hundir': 2, 'asqueroso': 1, 'despacio': 1, 'pelito': 1, 'fauna': 1, 'peor': 1, 'pre': 1, 'temporada': 1, 'aflojes': 1, 'tengas': 1, 'volar': 1, 'vuelvan': 1, 'rescatar': 1, 'valioso': 1, 'única': 1, 'perjudicada': 1, 'hecho': 1, 'hombre': 1, 'entrenado': 1, 'desafiado': 1, 'vine': 1, 'rescatarte': 1, 'arreglar': 1, 'sola': 2, 'venía': 1, 'pensaste': 1, 'enamoraría': 1, 'coraje': 1, 'enfrentar': 1, 'muchísimo': 1, 'creías': 1, 'momento': 4, 'derroté': 1, 'jamás': 1, 'he': 1, 'perdido': 1, 'públicamente': 1, 'desafiar': 1, 'acepto': 1, 'niños': 1, 'fuiste': 1, 'cobarde': 2, 'hagámoslo': 1, 'interesante': 1, 'gana': 2, 'devuelven': 1, 'absolutos': 2, 'capaz': 1, 'demostrarme': 1, 'horribles': 1, 'muertos': 1, 'perros': 1, 'hacerle': 1, 'psicológica': 1, 'física': 1, 'aniquilan': 1, 'ju': 1, 'fút': 1, 'aceptan': 1, 'candidato': 1, 'laucha': 11, 'dicen': 1, 'prestas': 1, 'lapicera': 1, 'hij': 1, 'custodia': 1, 'gustaría': 1, 'custodiarlo': 1, 'sorpresa': 1, 'necesito': 1, 'marcador': 3, 'punta': 2, 'cura': 4, 'conformo': 1, 'volver': 2, 'deportivo': 5, 'desamparados': 2, 'gane': 1, 'copa': 1, 'libertadores': 1, 'promesas': 2, 'pasó': 5, 'compraron': 1, 'demolieron': 1, 'pusieron': 1, 'maxikiosco': 1, 'hombres': 1, 'idea': 3, 'participar': 1, 'podría': 1, 'afeitarse': 1, 'domingo': 1, 'duda': 1, 'paramos': 1, 'pararía': 1, '11': 2, 'colgados': 1, 'travesaño': 5, 'llenan': 1, 'canasta': 1, 'matar': 1, 'veinte': 1, 'meter': 2, 'exagerado': 1, '15': 1, 'espantosos': 1, 'conocí': 1, 'ninguno': 1, 'ellos': 2, 'llorando': 1, 'investigando': 1, 'monocultivo': 1, 'pastito': 1, 'hubiese': 1, 'pasaba': 2, 'masacrar': 1, 'perderlo': 1, 'poca': 1, 'fe': 1, 'entrenar': 1, 'fueron': 1, 'matamos': 1, 'entrenando': 1, 'aficionados': 1, 'juegan': 1, 'confía': 1, 'enciendan': 1, 'torre': 3, 'enciende': 1, 'enciéndela': 2, 'vemos': 1, 'dominio': 1, 'hablaba': 1, 'inaugural': 1, 'poderosísimo': 1, 'absoluto': 4, 'tecnología': 1, '1': 5, '300': 1, 'cámaras': 1, '800': 1, 'grúas': 1, '200': 1, 'satélites': 1, 'escaloncito': 1, 'pedir': 1, 'embromarse': 1, 'juan': 1, 'josé': 2, 'presenta': 1, 'impacienta': 1, 'soberano': 1, 'patrocinado': 1, 'imelda': 1, 'diamonds': 1, 'mugbook': 1, 'smartsung': 1, 'amelia': 1, 'benz': 1, 'lefty': 1, 'chic': 1, 'parrot': 1, 's': 1, 'shell': 1, 'lord': 1, 'vaseline': 1, 'ma': 1, 'che': 1, 'donald': 1, 'essa': 1, 'cheaty': 2, 'bank': 3, 'aguada': 1, 'coffee': 1, 'stores': 1, 'noentendo': 1, 'werner': 1, 'sisters': 1, 'of': 1, 'atlantis': 1, 'grupo': 1, 'preso': 2, 'whirl': 1, 'poo': 1, 'indy': 1, 'frunde': 1, 'd': 1, 'sheguen': 1, 'scorbut': 1, 'gourmet': 1, 'food': 1, 'incomparable': 1, 'árbitro': 3, 'cristóforo': 1, 'bomberini': 1, 'armando': 2, 'demóstenes': 1, 'ferrero': 6, 'párroco': 1, 'leguizamón': 2, 'vicente': 1, 'navarro': 3, 'carmiño': 3, 'loprete': 1, 'luis': 1, 'kracorian': 4, 'emo': 5, 'daniel': 1, 'quintana': 2, 'subcomisario': 4, 'bautista': 1, 'pisano': 1, 'claudio': 1, 'alcides': 1, 'pedro': 1, 'juvenal': 1, 'rodríguez': 1, 'evaristo': 1, 'roña': 4, 'cuevas': 3, 'hormona': 3, 'domínguez': 2, 'gonzález': 3, 'lencería': 1, 'elsa': 1, 'sabor': 1, 'suerte': 1, 'arranca': 2, 'retrocede': 1, 'prestando': 1, 'atención': 3, 'reclama': 1, 'implora': 1, 'reacciona': 1, 'centro': 7, 'corta': 2, 'tíralo': 2, 'cortas': 1, 'larga': 2, 'profundidad': 1, 'mcantony': 3, 'despeinarse': 1, 'profundo': 1, 'sampietro': 1, 'corre': 2, 'assaidi': 6, 'der': 1, 'luvin': 1, 'ayrton': 2, 'profundiza': 1, 'entrada': 1, 'bubaye': 6, 'dejan': 1, 'desvía': 1, 'pone': 5, 'minuto': 1, 'faltan': 3, '89': 1, 'minutos': 1, 'cueva': 2, 'terreno': 1, 'inaudito': 1, 'derriba': 1, 'servido': 1, 'contraataque': 1, 'saca': 3, 'prendido': 1, 'abrojo': 1, 'festín': 1, 'taco': 1, 'rabona': 1, 'bolea': 2, 'milagro': 1, 'lárgala': 1, 'perdiendo': 1, 'caso': 1, 'preparando': 1, 'buscándolo': 1, 'intercepta': 1, 'lastimoso': 1, 'avanza': 2, 'elimina': 1, 'marca': 2, 'ante': 1, 'marcadores': 1, 'referee': 1, 'error': 2, 'arquero': 3, 'masacre': 2, 'emoción': 1, 'aburridísimo': 1, 'destruyo': 1, 'destruyas': 1, 'suspenso': 1, 'bombardear': 1, 'bailen': 1, 'rato': 1, 'diviértanse': 1, 'olvides': 2, 'negocio': 1, 'pecado': 1, 'toqué': 1, 'conoce': 2, 'situación': 1, 'triunfo': 1, 'gloria': 1, 'palabras': 1, 'quedé': 1, 'aforismos': 1, 'dice': 6, 'dispuesto': 1, 'reglas': 1, 'importan': 1, 'amistad': 2, 'terruño': 1, 'opción': 1, 'pasión': 1, 'llaman': 1, 'sigan': 1, 'verdadera': 1, 'local': 6, 'dominada': 2, 'supera': 1, 'estirada': 1, 'derrumba': 1, 'inexplicablemente': 1, 'mantengan': 1, 'calma': 1, 'acabó': 1, 'empezó': 1, 'guerra': 1, 'avance': 1, 'túnel': 1, 'avanzan': 1, 'prepara': 3, 'disparo': 2, 'fusilamiento': 1, 'ejecución': 1, 'llegar': 1, 'cruce': 2, 'modo': 1, 'detengan': 1, 'derechazo': 1, 'tirada': 1, 'monumental': 1, 'aire': 1, 'inútiles': 2, 'sale': 2, 'intento': 1, 'cruzar': 1, 'pega': 1, 'órbita': 1, 'hubiera': 1, 'dicho': 1, 'llegamos': 1, 'sigue': 1, 'acción': 1, 'enfrentarlo': 1, 'levántate': 1, 'ocurra': 1, 'cobrar': 1, 'siga': 3, 'olviden': 1, 'roba': 1, 'mendiguri': 3, 'comete': 1, 'propio': 1, 'principiante': 1, 'amaga': 1, 'foul': 2, 'primera': 1, 'combinado': 3, 'conseguido': 1, 'acercarse': 1, 'amarilla': 2, 'llevarlo': 1, 'patea': 1, 'sobrevuela': 1, 'barrera': 1, 'dirige': 1, 'posición': 1, 'said': 1, 'increíble': 2, 'tiro': 3, 'equivocación': 1, 'incomprensible': 1, 'horror': 2, 'cantemos': 1, 'victoria': 2, 'comienza': 1, 'inteligencia': 1, 'toma': 2, 'persigue': 1, 'adelanta': 1, 'elude': 1, 'dubigny': 1, 'aparece': 1, 'enclenque': 1, 'planchazo': 1, 'patéalo': 1, 'encargamos': 1, 'alambre': 1, 'púa': 1, 'zancadillas': 1, 'trampas': 1, 'retirada': 1, 'perfecta': 1, 'devuelve': 1, 'arrasante': 1, 'entra': 2, 'selva': 1, 'punto': 1, 'final': 2, 'iguala': 1, 'palomita': 1, 'emotivo': 1, 'emocionante': 1, 'cuánto': 3, '7': 1, 'siete': 3, 'encara': 1, 'ganarlo': 1, 'defensores': 1, 'abandonan': 1, 'heroica': 1, 'señores': 1, 'dentro': 1, 'velocidad': 1, 'ángulo': 1, 'criminal': 1, 'humanidad': 1, 'advierte': 1, 'penal': 2, 'intentando': 1, 'torcer': 1, 'destino': 1, 'semejante': 1, 'área': 1, 'escuche': 1, 'justamente': 2, 'perdimos': 1, 'aplauden': 2, 'aplaudir': 1, 'gritando': 1, 'nombre': 1, 'pago': 1, 'pagas': 1, 'renuncio': 1, 'estrella': 1, 'ídolo': 2, 'apagan': 1, 'ídolos': 1, 'caen': 1, 'cracks': 1, 'envejecen': 1, 'managers': 1, 'eternos': 1, 'daría': 1, 'pintada': 1, 'bor': 1, 'sorprendente': 1, 'pregunten': 2, 'consiguió': 1, 'meterse': 2, 'discutirle': 1, 'prefirieron': 1, 'fundar': 1, 'vivir': 1, 'casaron': 1, 'tuvieron': 1, 'creo': 1, 'conté': 1, 'real': 1, 'existen': 1, 'vivos': 1, 'marqué': 1, 'tatuaje': 5, 'patear': 1, 'pareces': 1, 'bailarina': 1, 'quince': 1, 'metros': 1, 'cóbrale': 1, 'ganan': 1, 'granates': 1, 'cualquier': 2, 'pasar': 1, 'fundadores': 1}\n",
      "Frase generada: vamos amadeo que .\n",
      "Frase generada: vamos amadeo que dónde\n",
      "Frase generada: vamos amadeo que dónde soy\n",
      "Frase generada: vamos amadeo que dónde soy yo\n",
      "Frase generada: vamos amadeo que dónde soy yo la\n",
      "Frase generada: vamos amadeo que dónde soy yo la no\n",
      "Frase generada: vamos amadeo que dónde soy yo la no el\n"
     ]
    }
   ],
   "source": [
    "# Ejemplo de uso\n",
    "if __name__ == \"__main__\":\n",
    "    with open(\"metegol_limpio.txt\", \"r\", encoding=\"utf-8\") as file:\n",
    "        texto_entrenamiento = file.read()\n",
    "\n",
    "    model = NgramModel(n=4)\n",
    "    model.train(texto_entrenamiento)\n",
    "\n",
    "    # Frase inicial\n",
    "    partial_sentence = \"vamos amadeo que\"\n",
    "    \n",
    "    # Generar una secuencia de 5 frases a partir de la frase inicial\n",
    "    for _ in range(7):\n",
    "        completed_sentence = model.complete_sentence(partial_sentence)\n",
    "        print(f\"Frase generada: {completed_sentence}\")\n",
    "        \n",
    "        # Actualizar la frase parcial con la nueva frase generada (última palabra)\n",
    "        partial_sentence = completed_sentence\n"
   ]
  },
  {
   "cell_type": "code",
   "execution_count": 79,
   "metadata": {},
   "outputs": [
    {
     "name": "stdout",
     "output_type": "stream",
     "text": [
      "Frecuencias globales: {'papá': 4, '?': 251, '!': 268, 'qué': 105, 'pasa': 19, 'haces': 16, 'tú': 40, 'vamos': 53, ',': 446, 've': 8, 'a': 178, 'dormir': 2, '.': 1171, 'no': 275, 'hay': 16, 'nada': 28, 'que': 143, 'hacer': 8, 'cree': 1, 'por': 71, 'eso': 20, 'los': 55, 'me': 79, 'parece': 9, 'ya': 14, 'es': 66, 'hora': 6, 'de': 130, 'contarle': 1, 'entonces': 4, 'si': 31, 'está': 19, 'todo': 21, 'el': 227, 'día': 2, 'enchufado': 1, 'en': 58, 'ese': 9, 'aparato': 1, 'ni': 14, 'escucha': 2, 'soy': 20, 'un': 88, 'fracaso': 3, 'como': 20, 'padre': 5, 'amarguísimo': 1, 'hablar': 4, 'con': 47, 'él': 10, 'tranquilo': 5, 'eh': 2, 'mati': 1, 'puedo': 8, 'contigo': 2, 'estoy': 18, 'dormido': 1, 'mañana': 3, 'dejaste': 2, 'juego': 6, 'encendido': 1, 'mira': 17, 'jugada': 2, 'difícil': 2, 'cómo': 39, 'hiciste': 4, 'muéstrame': 1, 'dime': 1, 'estabas': 1, 'durmiendo': 1, 'tenemos': 8, 'ponte': 1, 'cómodo': 1, 'te': 86, 'voy': 19, 'contar': 1, 'una': 38, 'historia': 4, 'pero': 39, 'tienes': 12, 'usar': 1, 'tu': 8, 'imaginación': 1, 'esto': 27, 'ocurrió': 1, 'hace': 5, 'poco': 1, 'tiempo': 5, 'pueblo': 29, 'muy': 10, 'cercano': 1, 'donde': 2, 'había': 3, 'plaza': 1, 'la': 152, 'nuestra': 2, 'estatua': 2, 'fundador': 2, 'nuestros': 1, 'y': 110, 'también': 6, 'bar': 7, 'nuestro': 4, 'eusebio': 9, 'número': 3, 'trascendental': 1, 'expresa': 1, 'radio': 1, 'circunferencia': 1, 'al': 42, 'diámetro': 1, 'del': 44, 'círculo': 1, 'dos': 8, 'letras': 2, 'pi': 4, 'apellido': 1, 'famoso': 2, 'autor': 1, 'teatral': 1, 'william': 1, 'trabajaba': 1, 'chico': 2, 'niño': 8, 'igual': 4, 'yo': 54, 'amadeo': 64, 'apúrate': 2, 'tenía': 1, 'gran': 3, 'debilidad': 2, 'cada': 2, 'vez': 12, 'se': 83, 'menos': 3, 'mí': 20, 'hola': 5, 'encanta': 2, 'helado': 1, 'ti': 18, 'gusta': 3, 'va': 16, 'gustar': 1, 'laurita': 5, 'tiene': 13, 'novio': 2, 'doble': 6, 'eje': 6, 'lo': 83, 'hizo': 7, 'mostrar': 1, 'mi': 26, 'equipo': 17, 'encantaría': 1, 'ven': 13, 'vas': 14, 'ver': 13, 'quedó': 2, 'estaba': 7, 'cansado': 2, 'mismos': 1, 'jugadores': 6, 'ahora': 20, 'son': 16, 'distintos': 1, 'únicos': 1, 'hermoso': 3, 'domina': 2, 'lechuga': 2, 'cinco': 3, 'antes': 3, 'pase': 7, 'corto': 3, 'para': 53, 'milton': 1, 'ritmo': 1, 'trópico': 1, 'sangre': 1, 'abre': 2, 'balón': 4, 'igor': 1, 'frío': 3, 'cálculo': 1, 'bloque': 1, 'bielorruso': 1, 'pisa': 3, 'amasa': 2, 'mellizo': 1, 'malparitti': 4, 'muralla': 1, 'pared': 2, 'cabeza': 6, 'clara': 1, 'ánimo': 2, 'negro': 1, 'noche': 3, 'pide': 2, 'pulpo': 2, 'benítez': 1, 'elástico': 1, 'mimbre': 2, 'bajo': 3, 'tres': 4, 'palos': 1, 'banda': 1, 'coreano': 4, 'parlí': 1, 'silencio': 1, 'persona': 2, 'junto': 1, 'lateral': 1, 'sorpresivo': 1, 'cordobés': 3, 'melena': 1, 'mágicos': 1, 'adelante': 4, 'recibe': 5, 'loco': 12, 'poeta': 1, 'gol': 38, 'beto': 43, 'jugador': 2, 'más': 29, 'carismático': 1, 'continente': 1, 'levanta': 2, 'desmarcado': 1, 'capitán': 3, 'único': 3, 'inigualable': 1, 'distinto': 1, 'amigo': 2, 'capi': 12, 'clava': 1, 'abajo': 4, 'sí': 29, 'golazo': 3, 'lisos': 3, 'importa': 10, 'nuevo': 11, 'quiero': 13, 'jugar': 9, 'quiere': 6, 'conmigo': 4, 'tuya': 2, 'ey': 5, 'hablo': 1, 'quieres': 10, 'eres': 12, 'crack': 3, 'fútbol': 8, 'juguete': 2, 'mudito': 1, 'pobrecito': 3, 'le': 25, 'da': 4, 'vergüenza': 2, 'tan': 3, 'bueno': 11, 'juega': 3, 'uno': 6, 'miedo': 10, 'juégale': 1, 'favor': 23, 'cuesta': 1, 'hazlo': 1, 'ruego': 1, 'suplico': 1, 'pido': 3, 'rodillas': 1, 'tengo': 20, 'concentrando': 1, 'campeón': 5, 'entrenador': 1, 'acabo': 1, 'tirar': 1, 'esa': 1, 'pude': 3, 'dura': 1, 'estatuita': 1, 'ataca': 2, 'otra': 9, 'liso': 2, 'ser': 8, 'goleada': 1, 'segura': 1, 'ramiro': 2, 'izquierda': 4, 'sergio': 2, 'pobrecita': 1, 'pollito': 1, 'necesitas': 2, 'madre': 3, 'gallinita': 1, 'verlas': 1, 'madres': 1, 'gallinitas': 1, 'gonzalo': 2, 'jorge': 2, 'dame': 6, 'pelota': 11, 'empatamos': 1, 'metegol': 15, 'existe': 2, 'empate': 1, 'quieras': 3, 'bien': 20, 'partido': 13, 'terminó': 2, 'ganar': 9, 'monedas': 1, 'pelotas': 1, 'suéltame': 3, 'siempre': 15, 'gano': 1, 'maldito': 1, 'odio': 8, 'culpa': 1, 'haberlo': 2, 'fundado': 1, 'así': 12, 'perder': 3, 'esta': 11, 'sé': 10, 'río': 1, 'norte': 1, 'italia': 1, 'muchachos': 17, 'nos': 25, 'entendemos': 1, 'quién': 17, 'anima': 1, 'partidito': 4, 'doy': 1, 'revancha': 3, 'amadeus': 1, 'tal': 4, 'estamos': 5, 'grandes': 1, 'adónde': 5, 'ciudad': 1, 'estudiar': 1, 'estuve': 2, 'ahorrando': 1, 'durante': 1, 'años': 3, 'porque': 8, 'carísimo': 1, 'gastar': 1, 'tener': 3, 'futuro': 3, 'griegos': 1, 'romanos': 1, 'hasta': 5, 'suizo': 1, 'tienen': 4, 'parte': 3, 'dices': 5, 'orgulloso': 1, 'hago': 4, 'mil': 2, 'cosas': 7, 'tema': 3, 'están': 8, 'oxidando': 1, 'además': 4, 'medio': 7, 'campo': 4, 'problema': 1, 'ahí': 9, 'comunicación': 1, 'falta': 5, 'diálogo': 1, 'desarrollando': 1, 'técnica': 1, 'molinete': 2, 'triple': 1, 'muchas': 2, 'puedes': 4, 'pensar': 1, 'pasas': 2, 'jugando': 2, 'buenas': 1, 'tardes': 1, 'queridísimos': 1, 'habitantes': 2, 'este': 16, 'maravilloso': 3, 'poblado': 1, 'alegría': 1, 'todos': 12, 'basta': 4, 'tristeza': 1, 'venimos': 1, 'anunciar': 1, 'apertura': 1, 'universal': 3, 'astro': 3, 'aquí': 6, 'emprendimiento': 1, 'monodeportivo': 1, 'atraerá': 1, 'turistas': 1, 'estas': 3, 'tierras': 1, 'dinero': 2, 'vuestros': 1, 'bolsillos': 1, 'concebido': 1, 'planeado': 1, 'financiado': 1, 'ha': 1, 'sido': 2, 'verdadero': 1, 'hijo': 7, 'técnicos': 1, 'teman': 2, 'gente': 4, 'vinimos': 1, 'hacerles': 1, 'daño': 1, 'somos': 8, 'amigos': 1, 'era': 14, 'simple': 1, 'cuando': 7, 'llevamos': 1, 'megaestrella': 1, 'internacional': 1, 'ezequiel': 2, 'remacho': 2, 'grosso': 16, 'gracias': 8, 'pequeño': 4, 'maravillosa': 1, 'bienvenida': 3, 'han': 1, 'pasado': 1, 'muchos': 1, 'desde': 1, 'aquella': 1, 'nunca': 8, 'olvidarme': 1, 'nuestras': 1, 'vidas': 1, 'estarán': 1, 'ligadas': 1, 'sigues': 1, 'diciendo': 2, 'obvio': 2, 'mío': 1, 'tuyo': 6, 'intendente': 3, 'después': 4, 'les': 6, 'explico': 1, 'adiós': 1, 'necesitamos': 5, 'bienvenidos': 2, 'claro': 5, 'homenaje': 2, 'deporte': 2, 'noble': 1, 'estadio': 4, 'grande': 3, 'mundo': 4, 'paseos': 1, 'turísticos': 1, 'parque': 1, 'temático': 1, 'museo': 1, 'dedicado': 1, 'figura': 1, 'importante': 1, 'su': 4, 'acá': 21, 'queremos': 1, 'ningún': 3, 'olvidé': 1, 'tampoco': 2, 'las': 14, 'obras': 1, 'comenzarán': 1, 'hoy': 2, 'mismo': 4, 'empezaremos': 1, 'alto': 5, 'rápido': 2, 'salgan': 1, 'páralos': 1, 'imposible': 4, 'puede': 8, 'detener': 1, 'progreso': 1, 'sal': 2, 'espera': 12, 'hacernos': 1, 'tráeme': 1, 'o': 9, 'vuelvas': 1, 'vayas': 1, 'tolerar': 1, 'razón': 3, 'casi': 1, 'escúchame': 1, 'decir': 5, 'dejar': 2, 'paz': 3, 'escuches': 1, 'oídos': 1, 'serio': 5, 'aprietes': 1, 'botones': 2, 'laura': 13, 'cambia': 1, 'cara': 6, 'hermanos': 1, '3': 8, '724': 1, 'partidos': 2, 'invictos': 1, 'juntos': 4, 'pesadilla': 3, 'despertar': 1, 'estará': 1, 'desanimes': 2, 'todavía': 4, 'dar': 3, 'vuelta': 3, 'estás': 14, 'cargando': 1, 'darlo': 1, 'máximo': 1, 'hablas': 1, 'desperdicié': 1, 'vida': 8, 'mucho': 10, 'quédate': 1, 'quieto': 1, 'tronco': 1, 'sirvo': 1, 'ir': 3, 'retenerla': 1, 'encima': 3, 'hablando': 1, 'pedazo': 2, 'plomo': 2, 'normal': 1, 'terminaste': 1, 'wing': 1, 'izquierdo': 1, 'mejor': 10, 'invicto': 1, 'vista': 1, 'certera': 1, 'equilibrio': 1, 'perfecto': 2, 'muñeca': 1, 'suprema': 1, 'olvidaste': 1, 'desafío': 6, 'mecánico': 3, 'lado': 5, 'destruyendo': 1, 'reía': 7, 'acuerdas': 4, 'ardilla': 1, '0': 5, 'perdíamos': 1, 'dimos': 1, '4': 7, 'imbatibles': 1, 'nadie': 7, 'busquemos': 1, 'fierro': 1, 'mujeres': 2, 'van': 17, 'vienen': 2, 'crees': 1, 'alguna': 3, 'vayan': 2, 'quieren': 1, 'completo': 2, 'hacemos': 2, 'olvídate': 3, 'buscar': 3, 'adentro': 1, 'conozco': 2, 'centímetro': 1, 'afuera': 3, 'tiempito': 1, 'basura': 4, 'dónde': 6, 'queda': 4, 'basural': 2, 'verdad': 5, 'ganamos': 1, 'goles': 5, 'míos': 1, 'último': 1, 'fue': 10, 'offside': 1, 'línea': 1, 'especial': 1, 'casa': 2, 'fin': 2, 'semana': 2, 'agárrate': 5, 'fuerte': 5, 'estupendo': 1, 'días': 2, 'siguen': 1, 'volviendo': 1, 'encontrar': 1, 'paso': 5, 'calmémonos': 1, 'arremanguémonos': 1, 'empezamos': 2, 'guau': 1, 'viaje': 1, 'uh': 1, 'epa': 1, 'agrandó': 1, 'cancha': 3, 'socorro': 2, 'viste': 4, 'felices': 1, 'ojos': 2, 'sabes': 5, 'sufrimos': 1, 'separación': 1, 'miren': 6, 'estar': 3, 'suelto': 1, 'olé': 7, 'salchichas': 2, 'puré': 2, 'cuidado': 7, 'gira': 4, 'pelo': 3, 'libre': 7, 'sol': 1, 'goleador': 11, 'agárrense': 4, 'perdón': 2, 'confundió': 1, 'síguele': 1, 'corriente': 1, 'volvió': 1, 'escuchando': 1, 'repito': 1, 'rata': 3, 'comió': 1, 'cerebro': 1, 'sabemos': 1, 'inútil': 4, 'marcas': 1, 'golpeó': 1, 'golpear': 1, 'fanfarrón': 2, 'mano': 4, 'ato': 1, 'provoques': 2, 'digo': 4, 'hice': 3, 'solito': 1, 'mal': 2, 'unidos': 1, 'alineados': 1, 'universo': 5, 'arco': 2, 'iris': 1, 'ambulancia': 1, 'viene': 4, 'llevar': 2, 'pobre': 3, 'chiflado': 1, 'agarre': 1, 'ate': 1, 'acerques': 1, 'parto': 1, 'mato': 2, 'solos': 1, 'ustedes': 3, 'sabías': 1, 'llanto': 1, 'estela': 3, 'deja': 3, 'alma': 1, 'mar': 1, 'existencia': 1, 'dijo': 1, 'callas': 1, 'digan': 1, 'calle': 1, 'confundamos': 1, 'cosa': 8, 'sensibilidad': 1, 'estupidez': 2, 'cierra': 1, 'boca': 1, 'metiendo': 1, 'calentando': 1, 'patéticos': 1, 'lisandro': 1, 'bordó': 6, 'granate': 4, 'linda': 3, 'toca': 1, 'llenó': 1, 'pides': 2, '30': 2, 'arrugaron': 1, 'comieron': 1, 'lengua': 1, 'ratones': 1, 'nosotros': 6, 'comer': 2, 'demuestres': 1, 'allá': 5, 'entró': 1, 'llevaron': 3, 'defendimos': 1, 'valemos': 3, 'vale': 1, 'déjalo': 1, 'habla': 1, 'irnos': 1, 'podemos': 2, 'quedarnos': 1, 'dueño': 1, 'betito': 3, 'saben': 2, 'compañero': 1, 'humilde': 2, 'pensando': 1, 'demás': 5, 'llegará': 1, 'juntaremos': 1, 'seremos': 1, 'cuatro': 1, 'doce': 1, 'metemos': 1, 'banco': 1, 'arriba': 2, 'baja': 5, 'quieta': 2, 'rabia': 2, 'extraña': 1, 'extrañar': 1, 'trata': 1, 'monta': 1, 'metió': 1, 'derecha': 4, 'atrás': 4, 'encontramos': 1, 'llevan': 2, 'llamas': 5, 'toda': 3, 'asco': 1, 'plata': 1, 'imbécil': 4, 'murió': 1, 'nació': 1, 'peligroso': 1, 'acuérdate': 1, 'llamo': 1, 'vieron': 1, 'fui': 1, 'escapar': 2, 'solo': 4, 'totalmente': 1, 'tuvo': 1, 'tuve': 2, 'lindo': 2, 'salió': 2, 'bájense': 2, 'veces': 1, 'vuelve': 4, 'buscarlo': 1, 'dio': 1, 'desagradecida': 1, 'dejando': 1, 'sigámosla': 1, 'chau': 4, 'tenías': 1, 'pensada': 1, 'pienso': 1, 'sentimiento': 1, 'puro': 2, 'lisito': 1, 'quedar': 2, 'contra': 5, 'hogar': 1, 'arte': 1, 'abstracto': 1, 'adoro': 2, 'admiro': 1, 'buen': 2, 'gusto': 4, 'querida': 1, 'jugarle': 1, 'dile': 1, 'brother': 1, 'arreglan': 1, 'tranquila': 2, 'joyas': 1, 'corona': 1, 'atrevas': 1, 'cuatrojos': 1, 'arranco': 1, 'esófago': 1, 'tantas': 1, 'pendientes': 1, 'chino': 3, 'vi': 3, 'océano': 1, 'dejó': 1, 'mensaje': 1, 'déjame': 6, 'cálmate': 2, 'fuerza': 3, 'pudo': 1, 'preocupes': 1, 'hermano': 8, 'cortaron': 1, 'pelos': 1, 'entiendo': 2, 'duele': 1, 'acostumbrado': 1, 'manera': 1, 'encontrarlos': 1, 'será': 1, 'dividamos': 1, 'divide': 1, 'reinarás': 1, 'refrán': 1, 'tulio': 3, 'decía': 3, 'rivales': 1, 'dividir': 1, 'aclara': 1, 'corazón': 1, 'hicieron': 4, 'pensé': 2, 'iba': 2, 'malpa': 6, 'vete': 3, 'sálvate': 1, 'sin': 8, 'otro': 2, 'ah': 2, 'veo': 1, 'mía': 1, 'siente': 2, 'lesionado': 1, 'incapaz': 1, 'acaso': 1, 'queja': 1, 'cactus': 1, 'sequía': 1, 'embargo': 1, 'pincha': 1, 'pinchar': 1, 'caigo': 1, 'darme': 1, 'resbaladiza': 1, 'dejas': 2, 'caer': 1, 'animal': 3, 'ves': 4, 'cuadrúpedo': 1, 'cállate': 3, 'bípedo': 1, 'piernas': 3, 'llego': 1, 'grites': 1, 'gritar': 1, 'sácame': 1, 'ropa': 1, 'oveja': 1, 'esos': 2, 'bastardos': 1, 'encuéntralos': 1, 'tanto': 2, 'ubícate': 1, 'ruso': 1, 'cierto': 2, 'bienaventurado': 2, 'seas': 1, 'hermanito': 1, 'tranquilos': 1, 'pueden': 1, 'confiar': 1, 'divierten': 1, 'invitan': 1, 'amargo': 1, 'impresionante': 2, 'cerca': 1, 'feo': 3, 'tuviera': 1, 'manos': 2, 'libres': 1, 'hacen': 4, 'locos': 1, 'metas': 2, 'ocurre': 1, 'ponerte': 1, 'adorno': 2, 'perno': 1, 'espéranos': 2, 'brazos': 1, 'chance': 1, 'humillante': 1, 'bájenlo': 2, 'muerto': 1, 'cobardes': 2, 'gritarles': 1, 'compañeros': 2, 'desgracia': 1, 'estos': 3, 'desgraciados': 1, 'desgraciado': 1, 'tuvimos': 1, 'hagas': 1, 'reír': 1, 'cansé': 1, 'sacarte': 1, 'hermana': 1, 'digas': 1, 'recién': 2, 'entero': 1, 'alrededor': 1, 'dan': 1, 'cuenta': 1, 'une': 1, 'separa': 1, 'trabajar': 1, 'algo': 2, 'admiras': 1, 'oye': 2, 'defensa': 3, 'fácil': 4, 'caudillo': 2, 'dije': 1, 'época': 1, 'divertíamos': 1, 'marcar': 1, 'teníamos': 1, 'decíamos': 2, 'tonto': 1, 'búfalo': 1, 'déjate': 1, 'molestar': 1, 'eras': 1, 'toro': 1, 'parar': 3, 'jugamos': 2, 'horas': 1, 'acuerdo': 2, 'fuera': 2, 'vivo': 1, 'viejo': 4, 'tachola': 1, 'fiera': 1, 'controles': 1, 'tomaba': 1, 'borracho': 1, 'rompí': 1, 'vidrio': 1, 'quería': 2, 'pagara': 1, 'armamos': 2, 'fusión': 1, 'clásico': 1, 'moderno': 1, 'llave': 2, 'pastorcita': 1, 'correr': 1, 'rímel': 1, 'tus': 1, 'temblando': 1, 'fresco': 2, 'querido': 2, 'público': 3, 'vino': 1, 'despedirse': 1, 'humillen': 1, 'rueguen': 1, 'quedarse': 1, 'vean': 1, 'positivo': 1, 'sombra': 1, 'poder': 3, 'crecer': 1, 'bájame': 2, 'quítale': 1, 'peluca': 1, 'payaso': 1, 'teatro': 1, 'celos': 1, 'envidia': 1, 'armonía': 1, 'aplauso': 2, 'rescatarlos': 1, 'seguir': 1, 'buscando': 3, 'espérenme': 1, 'llegó': 1, 'esperen': 1, 'dejen': 1, 'abandonar': 1, 'sabe': 3, 'necesitan': 1, 'tira': 2, 'cuándo': 1, 'lejos': 1, 'peligro': 4, 'ella': 3, 'necesita': 1, 'tendrías': 3, 'haberle': 1, 'visto': 1, 'minas': 1, 'lugar': 2, 'siento': 3, 'cuarto': 1, 'chacra': 1, 'vacío': 1, 'dolor': 1, 'pecho': 1, 'triste': 1, 'seguimos': 1, 'algunos': 1, 'entretener': 1, 'caprichoso': 1, 'mansión': 1, 'abombado': 1, 'prende': 1, 'azul': 2, 'idiota': 2, 'visibilidad': 1, 'ventana': 1, 'responde': 1, 'verde': 4, 'dijiste': 1, 'terminar': 1, ':': 3, 'mis': 1, 'hombros': 1, 'cargo': 1, 'juegas': 2, 'creer': 5, 'obligan': 1, 'poner': 2, 'diez': 2, 'reglamento': 1, 'lanzando': 1, 'disco': 2, 'decorador': 1, 'cuánta': 1, 'ignorante': 1, 'dios': 3, 'emociona': 1, 'muestra': 3, 'frágil': 1, 'piel': 1, 'gallina': 1, 'haciendo': 2, 'detente': 2, 'fama': 1, 'éxito': 1, 'entendí': 1, 'gané': 10, 'ganaron': 1, 'genio': 1, 'dámela': 1, 'chupasangre': 1, 'mantengo': 1, 'localizados': 1, 'muñecos': 1, 'inofensivos': 2, 'representan': 1, 'lleva': 3, 'listo': 1, 'podríamos': 1, 'haber': 2, 'caminado': 1, 'camino': 1, '10': 1, 'm': 1, 'espónsor': 1, 'sus': 1, 'estrellas': 3, 'naturaleza': 1, 'ciencia': 1, 'músculos': 1, 'nanotecnología': 1, 'perfección': 1, 'perfeccionar': 1, 'palomas': 2, 'blancas': 1, 'miden': 1, 'blando': 1, 'actitud': 1, 'neutra': 1, 'tibio': 1, 'vomita': 1, 'rating': 1, '2': 5, 'aguerridas': 1, 'camiseta': 2, 'puesta': 1, 'avestruz': 2, 'australiano': 1, 'veloz': 1, 'patada': 2, 'mortal': 1, 'imaginas': 1, 'botín': 1, 'características': 1, 'pasaría': 1, 'mezclo': 1, 'montón': 1, 'chatarra': 1, 'botines': 1, 'quizá': 1, 'salen': 1, 'unos': 1, 'tapones': 1, 'buenísimos': 1, 'mejoro': 1, 'adherencia': 1, 'podré': 1, 'pisar': 1, 'resto': 2, 'piensa': 1, 'ventajas': 1, 'sobre': 2, 'mugrientos': 1, 'entiendes': 2, 'frente': 2, 'maestro': 1, 'sabiduría': 1, 'oriental': 1, 'tipo': 2, 'percibe': 1, 'pescamos': 1, 'escapa': 1, 'mortales': 1, 'barullo': 1, 'bruta': 1, 'burda': 1, 'sirve': 1, 'sígueme': 1, 'mostrando': 1, 'inventos': 3, 'pegó': 1, 'puerta': 1, 'enseñar': 2, 'listos': 1, 'ibas': 1, 'suéltalo': 2, 'déjala': 1, 'caí': 1, 'hundir': 2, 'asqueroso': 1, 'despacio': 1, 'pelito': 1, 'fauna': 1, 'peor': 1, 'pre': 1, 'temporada': 1, 'aflojes': 1, 'tengas': 1, 'volar': 1, 'vuelvan': 1, 'rescatar': 1, 'valioso': 1, 'única': 1, 'perjudicada': 1, 'hecho': 1, 'hombre': 1, 'entrenado': 1, 'desafiado': 1, 'vine': 1, 'rescatarte': 1, 'arreglar': 1, 'sola': 2, 'venía': 1, 'pensaste': 1, 'enamoraría': 1, 'coraje': 1, 'enfrentar': 1, 'muchísimo': 1, 'creías': 1, 'momento': 4, 'derroté': 1, 'jamás': 1, 'he': 1, 'perdido': 1, 'públicamente': 1, 'desafiar': 1, 'acepto': 1, 'niños': 1, 'fuiste': 1, 'cobarde': 2, 'hagámoslo': 1, 'interesante': 1, 'gana': 2, 'devuelven': 1, 'absolutos': 2, 'capaz': 1, 'demostrarme': 1, 'horribles': 1, 'muertos': 1, 'perros': 1, 'hacerle': 1, 'psicológica': 1, 'física': 1, 'aniquilan': 1, 'ju': 1, 'fút': 1, 'aceptan': 1, 'candidato': 1, 'laucha': 11, 'dicen': 1, 'prestas': 1, 'lapicera': 1, 'hij': 1, 'custodia': 1, 'gustaría': 1, 'custodiarlo': 1, 'sorpresa': 1, 'necesito': 1, 'marcador': 3, 'punta': 2, 'cura': 4, 'conformo': 1, 'volver': 2, 'deportivo': 5, 'desamparados': 2, 'gane': 1, 'copa': 1, 'libertadores': 1, 'promesas': 2, 'pasó': 5, 'compraron': 1, 'demolieron': 1, 'pusieron': 1, 'maxikiosco': 1, 'hombres': 1, 'idea': 3, 'participar': 1, 'podría': 1, 'afeitarse': 1, 'domingo': 1, 'duda': 1, 'paramos': 1, 'pararía': 1, '11': 2, 'colgados': 1, 'travesaño': 5, 'llenan': 1, 'canasta': 1, 'matar': 1, 'veinte': 1, 'meter': 2, 'exagerado': 1, '15': 1, 'espantosos': 1, 'conocí': 1, 'ninguno': 1, 'ellos': 2, 'llorando': 1, 'investigando': 1, 'monocultivo': 1, 'pastito': 1, 'hubiese': 1, 'pasaba': 2, 'masacrar': 1, 'perderlo': 1, 'poca': 1, 'fe': 1, 'entrenar': 1, 'fueron': 1, 'matamos': 1, 'entrenando': 1, 'aficionados': 1, 'juegan': 1, 'confía': 1, 'enciendan': 1, 'torre': 3, 'enciende': 1, 'enciéndela': 2, 'vemos': 1, 'dominio': 1, 'hablaba': 1, 'inaugural': 1, 'poderosísimo': 1, 'absoluto': 4, 'tecnología': 1, '1': 5, '300': 1, 'cámaras': 1, '800': 1, 'grúas': 1, '200': 1, 'satélites': 1, 'escaloncito': 1, 'pedir': 1, 'embromarse': 1, 'juan': 1, 'josé': 2, 'presenta': 1, 'impacienta': 1, 'soberano': 1, 'patrocinado': 1, 'imelda': 1, 'diamonds': 1, 'mugbook': 1, 'smartsung': 1, 'amelia': 1, 'benz': 1, 'lefty': 1, 'chic': 1, 'parrot': 1, 's': 1, 'shell': 1, 'lord': 1, 'vaseline': 1, 'ma': 1, 'che': 1, 'donald': 1, 'essa': 1, 'cheaty': 2, 'bank': 3, 'aguada': 1, 'coffee': 1, 'stores': 1, 'noentendo': 1, 'werner': 1, 'sisters': 1, 'of': 1, 'atlantis': 1, 'grupo': 1, 'preso': 2, 'whirl': 1, 'poo': 1, 'indy': 1, 'frunde': 1, 'd': 1, 'sheguen': 1, 'scorbut': 1, 'gourmet': 1, 'food': 1, 'incomparable': 1, 'árbitro': 3, 'cristóforo': 1, 'bomberini': 1, 'armando': 2, 'demóstenes': 1, 'ferrero': 6, 'párroco': 1, 'leguizamón': 2, 'vicente': 1, 'navarro': 3, 'carmiño': 3, 'loprete': 1, 'luis': 1, 'kracorian': 4, 'emo': 5, 'daniel': 1, 'quintana': 2, 'subcomisario': 4, 'bautista': 1, 'pisano': 1, 'claudio': 1, 'alcides': 1, 'pedro': 1, 'juvenal': 1, 'rodríguez': 1, 'evaristo': 1, 'roña': 4, 'cuevas': 3, 'hormona': 3, 'domínguez': 2, 'gonzález': 3, 'lencería': 1, 'elsa': 1, 'sabor': 1, 'suerte': 1, 'arranca': 2, 'retrocede': 1, 'prestando': 1, 'atención': 3, 'reclama': 1, 'implora': 1, 'reacciona': 1, 'centro': 7, 'corta': 2, 'tíralo': 2, 'cortas': 1, 'larga': 2, 'profundidad': 1, 'mcantony': 3, 'despeinarse': 1, 'profundo': 1, 'sampietro': 1, 'corre': 2, 'assaidi': 6, 'der': 1, 'luvin': 1, 'ayrton': 2, 'profundiza': 1, 'entrada': 1, 'bubaye': 6, 'dejan': 1, 'desvía': 1, 'pone': 5, 'minuto': 1, 'faltan': 3, '89': 1, 'minutos': 1, 'cueva': 2, 'terreno': 1, 'inaudito': 1, 'derriba': 1, 'servido': 1, 'contraataque': 1, 'saca': 3, 'prendido': 1, 'abrojo': 1, 'festín': 1, 'taco': 1, 'rabona': 1, 'bolea': 2, 'milagro': 1, 'lárgala': 1, 'perdiendo': 1, 'caso': 1, 'preparando': 1, 'buscándolo': 1, 'intercepta': 1, 'lastimoso': 1, 'avanza': 2, 'elimina': 1, 'marca': 2, 'ante': 1, 'marcadores': 1, 'referee': 1, 'error': 2, 'arquero': 3, 'masacre': 2, 'emoción': 1, 'aburridísimo': 1, 'destruyo': 1, 'destruyas': 1, 'suspenso': 1, 'bombardear': 1, 'bailen': 1, 'rato': 1, 'diviértanse': 1, 'olvides': 2, 'negocio': 1, 'pecado': 1, 'toqué': 1, 'conoce': 2, 'situación': 1, 'triunfo': 1, 'gloria': 1, 'palabras': 1, 'quedé': 1, 'aforismos': 1, 'dice': 6, 'dispuesto': 1, 'reglas': 1, 'importan': 1, 'amistad': 2, 'terruño': 1, 'opción': 1, 'pasión': 1, 'llaman': 1, 'sigan': 1, 'verdadera': 1, 'local': 6, 'dominada': 2, 'supera': 1, 'estirada': 1, 'derrumba': 1, 'inexplicablemente': 1, 'mantengan': 1, 'calma': 1, 'acabó': 1, 'empezó': 1, 'guerra': 1, 'avance': 1, 'túnel': 1, 'avanzan': 1, 'prepara': 3, 'disparo': 2, 'fusilamiento': 1, 'ejecución': 1, 'llegar': 1, 'cruce': 2, 'modo': 1, 'detengan': 1, 'derechazo': 1, 'tirada': 1, 'monumental': 1, 'aire': 1, 'inútiles': 2, 'sale': 2, 'intento': 1, 'cruzar': 1, 'pega': 1, 'órbita': 1, 'hubiera': 1, 'dicho': 1, 'llegamos': 1, 'sigue': 1, 'acción': 1, 'enfrentarlo': 1, 'levántate': 1, 'ocurra': 1, 'cobrar': 1, 'siga': 3, 'olviden': 1, 'roba': 1, 'mendiguri': 3, 'comete': 1, 'propio': 1, 'principiante': 1, 'amaga': 1, 'foul': 2, 'primera': 1, 'combinado': 3, 'conseguido': 1, 'acercarse': 1, 'amarilla': 2, 'llevarlo': 1, 'patea': 1, 'sobrevuela': 1, 'barrera': 1, 'dirige': 1, 'posición': 1, 'said': 1, 'increíble': 2, 'tiro': 3, 'equivocación': 1, 'incomprensible': 1, 'horror': 2, 'cantemos': 1, 'victoria': 2, 'comienza': 1, 'inteligencia': 1, 'toma': 2, 'persigue': 1, 'adelanta': 1, 'elude': 1, 'dubigny': 1, 'aparece': 1, 'enclenque': 1, 'planchazo': 1, 'patéalo': 1, 'encargamos': 1, 'alambre': 1, 'púa': 1, 'zancadillas': 1, 'trampas': 1, 'retirada': 1, 'perfecta': 1, 'devuelve': 1, 'arrasante': 1, 'entra': 2, 'selva': 1, 'punto': 1, 'final': 2, 'iguala': 1, 'palomita': 1, 'emotivo': 1, 'emocionante': 1, 'cuánto': 3, '7': 1, 'siete': 3, 'encara': 1, 'ganarlo': 1, 'defensores': 1, 'abandonan': 1, 'heroica': 1, 'señores': 1, 'dentro': 1, 'velocidad': 1, 'ángulo': 1, 'criminal': 1, 'humanidad': 1, 'advierte': 1, 'penal': 2, 'intentando': 1, 'torcer': 1, 'destino': 1, 'semejante': 1, 'área': 1, 'escuche': 1, 'justamente': 2, 'perdimos': 1, 'aplauden': 2, 'aplaudir': 1, 'gritando': 1, 'nombre': 1, 'pago': 1, 'pagas': 1, 'renuncio': 1, 'estrella': 1, 'ídolo': 2, 'apagan': 1, 'ídolos': 1, 'caen': 1, 'cracks': 1, 'envejecen': 1, 'managers': 1, 'eternos': 1, 'daría': 1, 'pintada': 1, 'bor': 1, 'sorprendente': 1, 'pregunten': 2, 'consiguió': 1, 'meterse': 2, 'discutirle': 1, 'prefirieron': 1, 'fundar': 1, 'vivir': 1, 'casaron': 1, 'tuvieron': 1, 'creo': 1, 'conté': 1, 'real': 1, 'existen': 1, 'vivos': 1, 'marqué': 1, 'tatuaje': 5, 'patear': 1, 'pareces': 1, 'bailarina': 1, 'quince': 1, 'metros': 1, 'cóbrale': 1, 'ganan': 1, 'granates': 1, 'cualquier': 2, 'pasar': 1, 'fundadores': 1}\n",
      "Frase final generada: Tu eres el más rápido del pueblo ! el equipo local iguala el marcador con una patada mortal .\n"
     ]
    }
   ],
   "source": [
    "if __name__ == \"__main__\":\n",
    "    with open(\"metegol_limpio.txt\", \"r\", encoding=\"utf-8\") as file:\n",
    "        texto_entrenamiento = file.read()\n",
    "\n",
    "    model = NgramModel(n=3)\n",
    "    model.train(texto_entrenamiento)\n",
    "\n",
    "    # Frase inicial\n",
    "    generated_sentence = [\"Tu\", \"eres\"]  \n",
    "\n",
    "    # Generar una secuencia de palabras\n",
    "    for i in range(40): \n",
    "       \n",
    "        if len(generated_sentence) < 2:\n",
    "            break \n",
    "\n",
    "        context = generated_sentence[-2:]  # Últimas dos palabras como lista\n",
    "        next_word = model.predict_next_word(context)  # Método que predice la próxima palabra\n",
    "\n",
    "        generated_sentence.append(next_word) \n",
    "        if next_word == \".\": \n",
    "                break\n",
    "\n",
    "    # Construir y mostrar la frase final generada\n",
    "    final_sentence = \" \".join(generated_sentence)\n",
    "    print(f\"Frase final generada: {final_sentence}\")\n"
   ]
  }
 ],
 "metadata": {
  "kernelspec": {
   "display_name": "Python 3",
   "language": "python",
   "name": "python3"
  },
  "language_info": {
   "codemirror_mode": {
    "name": "ipython",
    "version": 3
   },
   "file_extension": ".py",
   "mimetype": "text/x-python",
   "name": "python",
   "nbconvert_exporter": "python",
   "pygments_lexer": "ipython3",
   "version": "3.12.3"
  }
 },
 "nbformat": 4,
 "nbformat_minor": 2
}
